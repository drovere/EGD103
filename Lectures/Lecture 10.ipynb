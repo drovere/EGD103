{
 "cells": [
  {
   "cell_type": "markdown",
   "id": "1ca8c7c4-912f-4e88-8251-c4ccaf6e5776",
   "metadata": {},
   "source": [
    "# EGD103 Lecture 10 - Visualising Data"
   ]
  },
  {
   "cell_type": "code",
   "execution_count": null,
   "id": "0dae049f-df62-4c30-9b13-c232244ab2ce",
   "metadata": {},
   "outputs": [],
   "source": [
    "import pandas as pd\n",
    "weather_daily = pd.read_csv(\"BrisbaneDailyWeather.csv\", parse_dates = ['Date'], index_col = 'Date')\n",
    "weather_daily"
   ]
  },
  {
   "cell_type": "markdown",
   "id": "604e9b5b-4f2e-40c0-8ff5-8d6dd912f036",
   "metadata": {},
   "source": [
    "## Relational Plots\n",
    "Relational plots show how one variable relates to another. There are two commonly used relational plots:\n",
    "* A scatter plot.\n",
    "* A line plot. In this case the x-axis variable should be ordered and unique. Commonly used for time series data."
   ]
  },
  {
   "cell_type": "code",
   "execution_count": null,
   "id": "4c9d0d22-0e19-4c2e-a998-aadafcf8e5bb",
   "metadata": {},
   "outputs": [],
   "source": [
    "# line plot examples\n"
   ]
  },
  {
   "cell_type": "code",
   "execution_count": null,
   "id": "9cca1881-d690-42a9-84da-323189e3f819",
   "metadata": {},
   "outputs": [],
   "source": [
    "# scatter plot examples\n"
   ]
  },
  {
   "cell_type": "markdown",
   "id": "c88e11e8-6cc0-4dfa-a68f-82ece2302f6d",
   "metadata": {},
   "source": [
    "## Distribution Plots (univariate)\n",
    "Distribution plots how show how a numerical variable is distributed. There are three common distribution plots:\n",
    "* Density plot. An approximation of the distribution of the random variable.\n",
    "* Histogram - a discretised version of the density plot. Numerical data is cut into bins.\n",
    "* Box plot - displays the quartiles of the distribution."
   ]
  },
  {
   "cell_type": "code",
   "execution_count": null,
   "id": "f6eb1e07-0467-476d-ae94-cc8a78472274",
   "metadata": {},
   "outputs": [],
   "source": [
    "# density plot examples\n"
   ]
  },
  {
   "cell_type": "code",
   "execution_count": null,
   "id": "90f238fe-f42f-4638-b4bd-a812f2b6f6fb",
   "metadata": {},
   "outputs": [],
   "source": [
    "# histogram examples\n"
   ]
  },
  {
   "cell_type": "markdown",
   "id": "48c5e7e7-5c31-409e-b88b-3bce13f4d419",
   "metadata": {},
   "source": [
    "## Categorical Plots\n",
    "Categorical plots shows how each category effects some value in the data. There are three common categorical plots:\n",
    "* Box plot\n",
    "* Bar plot\n",
    "* Pie plot"
   ]
  },
  {
   "cell_type": "code",
   "execution_count": null,
   "id": "08b78198-53d2-4780-842d-6d0cfcd66e72",
   "metadata": {},
   "outputs": [],
   "source": [
    "# box plot example\n"
   ]
  },
  {
   "cell_type": "code",
   "execution_count": null,
   "id": "99b61f11-64e3-4cd3-88e2-04c3df595eba",
   "metadata": {},
   "outputs": [],
   "source": [
    "# bar plot example\n"
   ]
  },
  {
   "cell_type": "code",
   "execution_count": null,
   "id": "f7179bf8-f27c-42e7-a8dc-749b80534750",
   "metadata": {},
   "outputs": [],
   "source": [
    "# pie plot example\n"
   ]
  },
  {
   "cell_type": "markdown",
   "id": "2e15826e-b77e-472d-bc45-f0e5c04e2938",
   "metadata": {},
   "source": [
    "## Multiple Plots\n",
    "Often we want to display multiple plots on the same axes. This can simply be done by providing a list of y variables to plot. You can either:\n",
    "* Plot on the same graph\n",
    "* Plot in separate graphs using subplot"
   ]
  },
  {
   "cell_type": "code",
   "execution_count": null,
   "id": "5ade1e5c-8b80-4910-b21f-60e0ced9553e",
   "metadata": {},
   "outputs": [],
   "source": [
    "# Multiple Plot Examples\n"
   ]
  },
  {
   "cell_type": "markdown",
   "id": "f0a9116f-7ce0-4e68-9208-b54c173c61ec",
   "metadata": {},
   "source": [
    "## Customising Plots\n",
    "The plot method in pandas has a large number of optional inputs that allow for customisation of your plots. These tend to fall under the following categories:\n",
    "* Labels (eg. title, xlabel, ylabel, legend)\n",
    "* Axis customisation (eg. xlim, ylim, xticks, logx, rot)\n",
    "* General aesthetics (eg. figsize, grid, style, fontsize)\n",
    "* kwargs - these are arguments that get passed on to matplotlib"
   ]
  },
  {
   "cell_type": "code",
   "execution_count": null,
   "id": "4c19aab8-2c0f-48c5-bb65-59ab679780ba",
   "metadata": {},
   "outputs": [],
   "source": [
    "# examples\n"
   ]
  },
  {
   "cell_type": "markdown",
   "id": "08f95187-3a14-4f7e-bf33-0f25cb24c4aa",
   "metadata": {},
   "source": [
    "## Effectively Visualising Data\n",
    "* Know your audience\n",
    "* Identify your message\n",
    "* Select the most appropriate type of plot\n",
    "* Provide appropriate titles and labels\n",
    "* Adapt the figure to most effectively deliver your message (don't just use the defaults)\n",
    "* Avoid \"chartjunk\""
   ]
  },
  {
   "cell_type": "markdown",
   "id": "7fe2e6f2-7090-4d5a-869c-5e95e8e86b67",
   "metadata": {},
   "source": [
    "## MatPlotLib and Seaborn\n",
    "MatPlotLib is the generic plotting library used in Python. The pandas plot method creates its plots using matplotlib.\n",
    "\n",
    "Seaborn is another library that is commonly used for data visualisation. It has some benefits over pandas for more advanced plotting (eg. can easily display multiple groups simulatenously with the \"hue\" argument)."
   ]
  },
  {
   "cell_type": "code",
   "execution_count": null,
   "id": "b2327024-5eb5-423c-8921-3b8b35a3566f",
   "metadata": {},
   "outputs": [],
   "source": [
    "# examples"
   ]
  },
  {
   "cell_type": "code",
   "execution_count": null,
   "id": "b1ec9883-4f57-4e58-b092-ef66171fa4eb",
   "metadata": {},
   "outputs": [],
   "source": []
  }
 ],
 "metadata": {
  "kernelspec": {
   "display_name": "Python 3 (ipykernel)",
   "language": "python",
   "name": "python3"
  },
  "language_info": {
   "codemirror_mode": {
    "name": "ipython",
    "version": 3
   },
   "file_extension": ".py",
   "mimetype": "text/x-python",
   "name": "python",
   "nbconvert_exporter": "python",
   "pygments_lexer": "ipython3",
   "version": "3.10.13"
  }
 },
 "nbformat": 4,
 "nbformat_minor": 5
}
