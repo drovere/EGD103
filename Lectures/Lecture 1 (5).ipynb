{
 "cells": [
  {
   "cell_type": "markdown",
   "id": "4f663ef1-d20c-4b70-84c7-4c33e8cb4fd9",
   "metadata": {},
   "source": [
    "# EGD103 Lecture 1 - Introduction to Python Programming in JupyterLab\n",
    "In this lecture, we explore introductory Python programming within the JupyterLab programming environment. By the end of the class, you should feel comfortable using Python as a calculator by entering single-line mathematical expressions."
   ]
  },
  {
   "cell_type": "markdown",
   "id": "84169a55-aef2-46d5-a96c-edf889ecc455",
   "metadata": {},
   "source": [
    "## Evaluating Expressions\n",
    "We will start by typing some simple expressions into Python using mathematical operators.\n",
    "| Operator | Description |\n",
    "| ----------- | ----------- |\n",
    "| + | Addition |\n",
    "| - | Subtraction |\n",
    "| * | Multiplication |\n",
    "| / | Division |\n",
    "| // | Floored division |\n",
    "| ** | Exponentiation |\n",
    "| % | Remainder/modulus |\n",
    "\n",
    "In expressions with multiple operators, it is important for you to understand the order of operations. A full list for Python is provided here: https://docs.python.org/3/reference/expressions.html#evaluation-order. "
   ]
  },
  {
   "cell_type": "code",
   "execution_count": null,
   "id": "db8e8d9d-093d-4841-91df-9a28f9072dc7",
   "metadata": {},
   "outputs": [],
   "source": [
    "# subtraction example\n",
    "3 - 4"
   ]
  },
  {
   "cell_type": "code",
   "execution_count": null,
   "id": "188a217d-15c8-4eae-83ac-4f85b1ed8b0b",
   "metadata": {},
   "outputs": [],
   "source": [
    "# multiplication example\n",
    "4 * 2"
   ]
  },
  {
   "cell_type": "code",
   "execution_count": null,
   "id": "6d8ff1d1-7159-40ee-978b-a73b69e1e08a",
   "metadata": {},
   "outputs": [],
   "source": [
    "# exponentiation example\n",
    "5 ** 2"
   ]
  },
  {
   "cell_type": "code",
   "execution_count": null,
   "id": "bc11c26d-b965-41bc-b82c-d7149e4ef953",
   "metadata": {},
   "outputs": [],
   "source": [
    "# some more examples (in class)"
   ]
  },
  {
   "cell_type": "markdown",
   "id": "103fc092-def3-469c-af9c-c837b5248fff",
   "metadata": {},
   "source": [
    "## Comments\n",
    "You may have noticed that the previous examples contained comments. Comments are sections of code that are not exectuted by a program. Their purpose is to be read by humans, and are helpful in making code easier to understand.\n",
    "\n",
    "In python, we comment by using the `#` symbol."
   ]
  },
  {
   "cell_type": "code",
   "execution_count": null,
   "id": "aecd38dc-b54f-424d-9f41-eb1906f46cbd",
   "metadata": {},
   "outputs": [],
   "source": [
    "# This is an example comment. Nothing will be output when running this, since it contains no Python commands."
   ]
  },
  {
   "cell_type": "markdown",
   "id": "2949b86f-b8fb-4282-b686-fc6f62d990f6",
   "metadata": {
    "tags": []
   },
   "source": [
    "## Calling functions\n",
    "A function is a named block of code that can be executed by supplying input information (called arguments).\n",
    "\n",
    "The general syntax for calling a function is: `function_name(argument)`. \n",
    "\n",
    "In the event a function has multiple inputs, they are separated by commas `function_name(argument1, argument2, ..., argumentN)`.\n",
    "\n",
    "Base Python has relatively few functions built in - only 68!. A full list can be found here: https://docs.python.org/3/library/functions.html.\n",
    "\n",
    "Some useful functions to get started with are given below.\n",
    "| Function | Description |\n",
    "| ----------- | ----------- |\n",
    "| `abs` | Finds the absolute value of the argument |\n",
    "| `round` | Rounds first argument |\n",
    "| `max` | Outputs the largest argument |\n",
    "| `min` | Outputs the smallest argument |\n",
    "| `sum` | Adds all arguments |\n",
    "| `print` | Prints object  |\n",
    "| `help` | Get help documentation for a function/module/class/method/keyword |\n"
   ]
  },
  {
   "cell_type": "code",
   "execution_count": null,
   "id": "4b51c1cd-de9c-4c3e-b1d7-4984b43bbf5f",
   "metadata": {},
   "outputs": [],
   "source": [
    "# example function call with 1 input\n",
    "abs(-10)"
   ]
  },
  {
   "cell_type": "code",
   "execution_count": null,
   "id": "0382d78b-e8a5-4eff-9661-d83991cc6eeb",
   "metadata": {},
   "outputs": [],
   "source": [
    "# example function call with multiple inputs\n",
    "max(5, 2, 3, 9, 0)"
   ]
  },
  {
   "cell_type": "code",
   "execution_count": null,
   "id": "f31e2983-8b92-4647-bc2d-aa689d042923",
   "metadata": {},
   "outputs": [],
   "source": [
    "# using the help function for insight on how to use the round function\n",
    "help(round)"
   ]
  },
  {
   "cell_type": "markdown",
   "id": "a8ea07b1-5f0c-4db6-827e-70e108d4b15b",
   "metadata": {
    "tags": []
   },
   "source": [
    "## Importing modules and examples using the math module\n",
    "We are able to gain access to more functions by importing modules. The syntax for importing a module is:\n",
    "`import module_name`\n",
    "\n",
    "Once imported, you can call functions within that module. The syntax for this is: `module_name.function_name(arguments)`.\n",
    "\n",
    "We will begin by looking at the `math` module. The math module contains the functions you'd expect to find on a scientific calculator, such as elementary functions (eg. $\\sin$, $\\cos$, $\\tan$, $\\exp$, $\\log$). Documentation is available here: https://docs.python.org/3/library/math.html."
   ]
  },
  {
   "cell_type": "code",
   "execution_count": null,
   "id": "7ab2fa69-c70a-428a-be07-0ca9620cfdfc",
   "metadata": {},
   "outputs": [],
   "source": [
    "import math"
   ]
  },
  {
   "cell_type": "code",
   "execution_count": null,
   "id": "3c95ea3b-3b88-48ee-a563-fe56cf99341a",
   "metadata": {},
   "outputs": [],
   "source": [
    "# Evaluating sin(45)\n",
    "math.sin(45)"
   ]
  },
  {
   "cell_type": "code",
   "execution_count": null,
   "id": "04fd29b8-6a6f-4d81-b558-97e84e56bb48",
   "metadata": {},
   "outputs": [],
   "source": [
    "# Is the argument in degrees or radians? We can look at the help documentation."
   ]
  },
  {
   "cell_type": "code",
   "execution_count": null,
   "id": "3b33adfc-b60f-480a-9359-7ec1267f3155",
   "metadata": {},
   "outputs": [],
   "source": [
    "# How can we convert between degrees and radians?"
   ]
  },
  {
   "cell_type": "markdown",
   "id": "4ccc9a21-92c7-4682-b16e-74bce853bc3e",
   "metadata": {
    "tags": []
   },
   "source": [
    "### Activity 1: Using Python as a calculator\n",
    "Try using Python and the math module to calculate the values for the following mathematical expressions.\n",
    "1. $\\sin^2(1) + \\cos^2(1)$\n",
    "2. $\\log_{10}(100)$\n",
    "3. $-3 + \\cfrac{\\sqrt{3^2 - 4 \\times 1 \\times 2}}{2 \\times 2}$"
   ]
  },
  {
   "cell_type": "code",
   "execution_count": null,
   "id": "6beb2c83-8552-4c12-b163-a89d506afc19",
   "metadata": {},
   "outputs": [],
   "source": [
    "# insert Q1 answer here"
   ]
  },
  {
   "cell_type": "code",
   "execution_count": null,
   "id": "41b6e22e-bb69-41ac-9f0d-a8a7476ea37d",
   "metadata": {},
   "outputs": [],
   "source": [
    "# insert Q2 answer here"
   ]
  },
  {
   "cell_type": "code",
   "execution_count": null,
   "id": "0971ed4f-4328-4cea-98bf-bdca377eb654",
   "metadata": {},
   "outputs": [],
   "source": [
    "# insert Q3 answer here"
   ]
  },
  {
   "cell_type": "markdown",
   "id": "5a258650-402a-4334-92c7-92b9d410f26a",
   "metadata": {},
   "source": [
    "## Errors\n",
    "When programming, you are bound to make errors at some point. It is important that you are able to troubleshoot your code to identify and remove these errors. There are three main types of errors: syntax errors, runtime errors and semantic errors.\n",
    "\n",
    "**Syntax errors:** caused when code does not abide by the rules of the language. Python will do a syntax check for an entire code cell before attempting to run the code.\n",
    "\n",
    "**Runtime errors:** caused while running the code. The language is correct, but an answer cannot be computed for the task that was given (eg. divide by zero error).\n",
    "\n",
    "**Semantic errors:** caused when code runs, but the instructions are incorrect.\n",
    "\n",
    "Python will pick up syntax errors and runtime errors for you. Semantic errors will often go undetected, so it important to have sound practices in place to help detect semantic errors (eg. using test cases to verify whether your code can perform tasks correctly)."
   ]
  },
  {
   "cell_type": "code",
   "execution_count": null,
   "id": "ecd76e70-f9bf-4fc9-8c79-04dd612ff9e5",
   "metadata": {
    "tags": []
   },
   "outputs": [],
   "source": [
    "# Syntax error example\n",
    "1 + 2 + ...... + 10"
   ]
  },
  {
   "cell_type": "code",
   "execution_count": null,
   "id": "80f166c4-f84f-4ad7-a376-446205233ac2",
   "metadata": {
    "tags": []
   },
   "outputs": [],
   "source": [
    "# Runtime error example\n",
    "cos(2)"
   ]
  },
  {
   "cell_type": "code",
   "execution_count": null,
   "id": "1f4e8ff6-0194-40fd-9396-f63ebe53dcad",
   "metadata": {
    "tags": []
   },
   "outputs": [],
   "source": [
    "# Semantic error for trying to solve three squared\n",
    "3 ^ 2"
   ]
  },
  {
   "cell_type": "markdown",
   "id": "af0480cc-b6b8-476e-8433-011b9bccfd32",
   "metadata": {},
   "source": [
    "### Activity 2: Errors\n",
    "Run the code cells below. Based on the output, try to explain why the error is occuring."
   ]
  },
  {
   "cell_type": "code",
   "execution_count": null,
   "id": "6830083e-4ca6-4923-8a57-ce441f0806d0",
   "metadata": {
    "tags": []
   },
   "outputs": [],
   "source": [
    "1 + 2 = 3"
   ]
  },
  {
   "cell_type": "code",
   "execution_count": null,
   "id": "f37921ab-6a24-4ca4-acb2-b58d00f211c4",
   "metadata": {},
   "outputs": [],
   "source": [
    "6 / (5 * 2 - 10)"
   ]
  },
  {
   "cell_type": "code",
   "execution_count": null,
   "id": "f8e198f4-2785-470c-9a0e-07e383cefe2b",
   "metadata": {
    "tags": []
   },
   "outputs": [],
   "source": [
    "math.log(-1)"
   ]
  }
 ],
 "metadata": {
  "kernelspec": {
   "display_name": "Python 3 (ipykernel)",
   "language": "python",
   "name": "python3"
  },
  "language_info": {
   "codemirror_mode": {
    "name": "ipython",
    "version": 3
   },
   "file_extension": ".py",
   "mimetype": "text/x-python",
   "name": "python",
   "nbconvert_exporter": "python",
   "pygments_lexer": "ipython3",
   "version": "3.12.9"
  }
 },
 "nbformat": 4,
 "nbformat_minor": 5
}
