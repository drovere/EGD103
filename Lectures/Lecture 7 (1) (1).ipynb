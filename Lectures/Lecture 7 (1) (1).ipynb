{
 "cells": [
  {
   "cell_type": "markdown",
   "id": "cf60d54c-4e95-40d0-8883-22cb7f0b021d",
   "metadata": {},
   "source": [
    "# Lecture 7 - Numerical Computing with NumPy\n",
    "\n",
    "NumPy is the most commonly used Python library for numeric computing. While the math module from week 1 allows us to use Python as a scientific calculator, the numpy library will allow math capabilities far surpassing a graphics calculator. Official documentation can be found here: https://numpy.org/doc/stable/."
   ]
  },
  {
   "cell_type": "code",
   "execution_count": null,
   "id": "c9269b41-7025-48ff-ae0a-542989d2d078",
   "metadata": {},
   "outputs": [],
   "source": [
    "# importing numpy\n",
    "import numpy as np"
   ]
  },
  {
   "cell_type": "markdown",
   "id": "2e0e1ec9-e2a0-4c90-93ea-26a4a41fda96",
   "metadata": {},
   "source": [
    "## Creating NumPy Arrays\n",
    "NumPy gives us access to a new data type: the array. Arrays are similar to lists, but differ in important ways:\n",
    "* Arrays can be multidimensional. A 1D array is similar to a list, but we can also create 2D, 3D, nD arrays.\n",
    "* All elements of an array must have the same data type.\n",
    "* Arrays include lots of mathematical functionality (eg. operators, functions, methods) which isn't the case for lists.\n",
    "\n",
    "You can convert a list to an array with the <code>array</code> function in NumPy. There are also other functions available to quickly create common arrays such as <code>arange</code>, <code>linspace</code>, <code>ones</code> and <code>zeros</code>."
   ]
  },
  {
   "cell_type": "code",
   "execution_count": null,
   "id": "5221c141-4278-4577-8b9e-2e2af7ea5eb4",
   "metadata": {},
   "outputs": [],
   "source": [
    "# examples"
   ]
  },
  {
   "cell_type": "markdown",
   "id": "26f85b33-ffd1-4c5b-8242-cffb7f2aa0f0",
   "metadata": {},
   "source": [
    "Once you have created an array, you can inspect its properties through its attributes. Attributes are values that are defined within a data type. You access them similarly to methods, except you do not call them (ie. no brackets). You can generally think of an attribute as a fact about the object whereas a method involves doing something to the object.\n",
    "\n",
    "```python\n",
    "value.attribute_name\n",
    "```\n",
    "\n",
    "Some useful attributes of arrays include <code>ndim</code>, <code>shape</code>, <code>size</code>, and <code>dtype</code>."
   ]
  },
  {
   "cell_type": "code",
   "execution_count": null,
   "id": "906713c8-5b30-4fbf-9e2f-55f55cbe8eac",
   "metadata": {},
   "outputs": [],
   "source": [
    "# examples"
   ]
  },
  {
   "cell_type": "markdown",
   "id": "39adfde6-17a5-4493-8651-be7d84d1fbf6",
   "metadata": {},
   "source": [
    "## Element-wise Processes\n",
    "NumPy supports elementwise operations, functions and indexing, avoiding the need for loops! An element-wise process is one that \"does something\" for each element. This allows you to more easily and efficiently perform calculations with collections of values than you could with Python's in-built data structures (lists, tuples, etc.)."
   ]
  },
  {
   "cell_type": "code",
   "execution_count": null,
   "id": "63955532-9174-40e5-99d0-d5dafce743df",
   "metadata": {},
   "outputs": [],
   "source": [
    "# examples"
   ]
  },
  {
   "cell_type": "markdown",
   "id": "90a37205-f5cc-4388-9842-3d8bbae27752",
   "metadata": {},
   "source": [
    "## Indexing and Slicing\n",
    "NumPy arrays can be indexed and sliced like lists. \n",
    "\n",
    "In addition to slicing, it will allow for a sequence of indexes to be provided to select a subset of an array, meaning you can select any subset and not just adjacent elements.\n",
    "\n",
    "Further functionality is also available for higher dimensional arrays, since arrays understand the concept of dimensionality. For example, in a matrix you could index with:\n",
    "```{python}\n",
    "matrix_name[row_index, col_index]\n",
    "```"
   ]
  },
  {
   "cell_type": "code",
   "execution_count": null,
   "id": "aa7b9951-ef3b-4ca4-b283-ce4a3db6726a",
   "metadata": {},
   "outputs": [],
   "source": [
    "# examples"
   ]
  },
  {
   "cell_type": "markdown",
   "id": "5726d376-d3cf-402e-9c8c-6425ad2f54a4",
   "metadata": {},
   "source": [
    "## Mathematics with NumPy\n",
    "NumPy has functionality to support more advanced mathematics beyond the math module. This includes statistics, linear algebra and numerical methods."
   ]
  },
  {
   "cell_type": "code",
   "execution_count": null,
   "id": "30c8cb7a-c9ba-4ca6-9dc3-9acb725567cd",
   "metadata": {},
   "outputs": [],
   "source": [
    "# examples"
   ]
  },
  {
   "cell_type": "markdown",
   "id": "6df6dd06-b077-4cb3-b1ca-e24f9b21613f",
   "metadata": {},
   "source": [
    "## Plotting with MatPlotLib\n",
    "MatPlotLib is the most common library used to visualise numeric data in Python, and is commonly used in tandem with NumPy. Documentation can be found here: https://matplotlib.org/stable/index.html."
   ]
  },
  {
   "cell_type": "code",
   "execution_count": null,
   "id": "b4e44bf6-9bcc-4d3a-babb-6c057660a47a",
   "metadata": {},
   "outputs": [],
   "source": [
    "# matplotlib import\n",
    "import matplotlib.pyplot as plt"
   ]
  },
  {
   "cell_type": "code",
   "execution_count": null,
   "id": "ac482d3f-fa53-4f46-8479-90ed562a1a51",
   "metadata": {},
   "outputs": [],
   "source": [
    "# example - provided in MatPlotLib documentation\n",
    "x = np.linspace(0, 2 * np.pi, 200)\n",
    "y = np.sin(x)\n",
    "\n",
    "fig, ax = plt.subplots()\n",
    "ax.plot(x, y)\n",
    "plt.show()"
   ]
  }
 ],
 "metadata": {
  "kernelspec": {
   "display_name": "Python 3 (ipykernel)",
   "language": "python",
   "name": "python3"
  },
  "language_info": {
   "codemirror_mode": {
    "name": "ipython",
    "version": 3
   },
   "file_extension": ".py",
   "mimetype": "text/x-python",
   "name": "python",
   "nbconvert_exporter": "python",
   "pygments_lexer": "ipython3",
   "version": "3.12.11"
  }
 },
 "nbformat": 4,
 "nbformat_minor": 5
}
