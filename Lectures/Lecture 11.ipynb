{
 "cells": [
  {
   "cell_type": "markdown",
   "id": "90796524-0b42-48a2-8a8f-e77e9bfa4124",
   "metadata": {},
   "source": [
    "# Lecture 11 - Data Wrangling"
   ]
  },
  {
   "cell_type": "markdown",
   "id": "2755ede7-5cf8-42be-9b15-6982c1d5d0d8",
   "metadata": {},
   "source": [
    "In this lecture we will explore cyclist count data from Brisbane in 2021. The data was gathered from the Brisbane City Council's open data portal."
   ]
  },
  {
   "cell_type": "code",
   "execution_count": 1,
   "id": "ff77a4dc-5acb-4450-b01b-5afa663d733c",
   "metadata": {},
   "outputs": [
    {
     "name": "stderr",
     "output_type": "stream",
     "text": [
      "/tmp/ipykernel_510/2887649867.py:1: DeprecationWarning: \n",
      "Pyarrow will become a required dependency of pandas in the next major release of pandas (pandas 3.0),\n",
      "(to allow more performant data types, such as the Arrow string type, and better interoperability with other libraries)\n",
      "but was not found to be installed on your system.\n",
      "If this would cause problems for you,\n",
      "please provide us feedback at https://github.com/pandas-dev/pandas/issues/54466\n",
      "        \n",
      "  import pandas as pd\n"
     ]
    },
    {
     "data": {
      "text/html": [
       "<div>\n",
       "<style scoped>\n",
       "    .dataframe tbody tr th:only-of-type {\n",
       "        vertical-align: middle;\n",
       "    }\n",
       "\n",
       "    .dataframe tbody tr th {\n",
       "        vertical-align: top;\n",
       "    }\n",
       "\n",
       "    .dataframe thead th {\n",
       "        text-align: right;\n",
       "    }\n",
       "</style>\n",
       "<table border=\"1\" class=\"dataframe\">\n",
       "  <thead>\n",
       "    <tr style=\"text-align: right;\">\n",
       "      <th></th>\n",
       "      <th>Date</th>\n",
       "      <th>Pedestrians</th>\n",
       "      <th>Cyclists</th>\n",
       "      <th>Cyclists_other_site</th>\n",
       "      <th>Day</th>\n",
       "    </tr>\n",
       "  </thead>\n",
       "  <tbody>\n",
       "    <tr>\n",
       "      <th>0</th>\n",
       "      <td>2021-01-01</td>\n",
       "      <td>5710.0</td>\n",
       "      <td>1738.0</td>\n",
       "      <td>265</td>\n",
       "      <td>Friday</td>\n",
       "    </tr>\n",
       "    <tr>\n",
       "      <th>1</th>\n",
       "      <td>2021-01-02</td>\n",
       "      <td>6485.0</td>\n",
       "      <td>2538.0</td>\n",
       "      <td>462</td>\n",
       "      <td>Saturday</td>\n",
       "    </tr>\n",
       "    <tr>\n",
       "      <th>2</th>\n",
       "      <td>2021-01-03</td>\n",
       "      <td>6525.0</td>\n",
       "      <td>2974.0</td>\n",
       "      <td>479</td>\n",
       "      <td>Sunday</td>\n",
       "    </tr>\n",
       "    <tr>\n",
       "      <th>3</th>\n",
       "      <td>2021-01-04</td>\n",
       "      <td>4720.0</td>\n",
       "      <td>2865.0</td>\n",
       "      <td>538</td>\n",
       "      <td>Monday</td>\n",
       "    </tr>\n",
       "    <tr>\n",
       "      <th>4</th>\n",
       "      <td>2021-01-05</td>\n",
       "      <td>4690.0</td>\n",
       "      <td>3353.0</td>\n",
       "      <td>637</td>\n",
       "      <td>Tuesday</td>\n",
       "    </tr>\n",
       "    <tr>\n",
       "      <th>...</th>\n",
       "      <td>...</td>\n",
       "      <td>...</td>\n",
       "      <td>...</td>\n",
       "      <td>...</td>\n",
       "      <td>...</td>\n",
       "    </tr>\n",
       "    <tr>\n",
       "      <th>360</th>\n",
       "      <td>2021-12-27</td>\n",
       "      <td>4644.0</td>\n",
       "      <td>1970.0</td>\n",
       "      <td>351</td>\n",
       "      <td>Monday</td>\n",
       "    </tr>\n",
       "    <tr>\n",
       "      <th>361</th>\n",
       "      <td>2021-12-28</td>\n",
       "      <td>3073.0</td>\n",
       "      <td>910.0</td>\n",
       "      <td>224</td>\n",
       "      <td>Tuesday</td>\n",
       "    </tr>\n",
       "    <tr>\n",
       "      <th>362</th>\n",
       "      <td>2021-12-29</td>\n",
       "      <td>3875.0</td>\n",
       "      <td>1311.0</td>\n",
       "      <td>397</td>\n",
       "      <td>Wednesday</td>\n",
       "    </tr>\n",
       "    <tr>\n",
       "      <th>363</th>\n",
       "      <td>2021-12-30</td>\n",
       "      <td>5135.0</td>\n",
       "      <td>2341.0</td>\n",
       "      <td>416</td>\n",
       "      <td>Thursday</td>\n",
       "    </tr>\n",
       "    <tr>\n",
       "      <th>364</th>\n",
       "      <td>2021-12-31</td>\n",
       "      <td>5888.0</td>\n",
       "      <td>2074.0</td>\n",
       "      <td>386</td>\n",
       "      <td>Friday</td>\n",
       "    </tr>\n",
       "  </tbody>\n",
       "</table>\n",
       "<p>365 rows × 5 columns</p>\n",
       "</div>"
      ],
      "text/plain": [
       "          Date  Pedestrians  Cyclists  Cyclists_other_site        Day\n",
       "0   2021-01-01       5710.0    1738.0                  265     Friday\n",
       "1   2021-01-02       6485.0    2538.0                  462   Saturday\n",
       "2   2021-01-03       6525.0    2974.0                  479     Sunday\n",
       "3   2021-01-04       4720.0    2865.0                  538     Monday\n",
       "4   2021-01-05       4690.0    3353.0                  637    Tuesday\n",
       "..         ...          ...       ...                  ...        ...\n",
       "360 2021-12-27       4644.0    1970.0                  351     Monday\n",
       "361 2021-12-28       3073.0     910.0                  224    Tuesday\n",
       "362 2021-12-29       3875.0    1311.0                  397  Wednesday\n",
       "363 2021-12-30       5135.0    2341.0                  416   Thursday\n",
       "364 2021-12-31       5888.0    2074.0                  386     Friday\n",
       "\n",
       "[365 rows x 5 columns]"
      ]
     },
     "execution_count": 1,
     "metadata": {},
     "output_type": "execute_result"
    }
   ],
   "source": [
    "# standard imports for data processing\n",
    "import numpy as np\n",
    "import pandas as pd\n",
    "import matplotlib.pyplot as plt\n",
    "import seaborn as sns"
   ]
  },
  {
   "cell_type": "markdown",
   "id": "3ea26463-6351-4476-ae70-541f7068cb04",
   "metadata": {},
   "source": [
    "Import the 'bike-ped-auto-counts-2021.csv' dataset. Ensure the Date column is imported in datetime format and is set as the index of the dataframe. Inspect the data to get a feel for the format."
   ]
  },
  {
   "cell_type": "code",
   "execution_count": null,
   "id": "4512899c-64bb-4938-a4cd-c53f7c7d1c88",
   "metadata": {},
   "outputs": [],
   "source": [
    "# import and inspect data"
   ]
  },
  {
   "cell_type": "markdown",
   "id": "82c4ad48-bec6-4d53-916d-4ace2a3a9df6",
   "metadata": {},
   "source": [
    "## Updating Data\n",
    "There are lots of autocount locations in the data, so let's focus our analysis on a select few. Select the Maritime Museum and Annerley Rd locations. Rename the columns to ones that are more convenient to use. Add day and month columns to the data."
   ]
  },
  {
   "cell_type": "code",
   "execution_count": null,
   "id": "4565726d-290c-47ca-9899-0f10a545789f",
   "metadata": {},
   "outputs": [],
   "source": [
    "# updating data (adding, removing and renaming columns)"
   ]
  },
  {
   "cell_type": "markdown",
   "id": "3390bee7-c538-4f2c-a3bb-377986d30267",
   "metadata": {},
   "source": [
    "## Cleaning Data\n",
    "Now clean the data. This typically requires the following:\n",
    "* Check whether data types are appropriate\n",
    "* Check for missing values\n",
    "* Inspect the data for incorrect values or outliers\n",
    "* Do format checks where appropriate"
   ]
  },
  {
   "cell_type": "code",
   "execution_count": null,
   "id": "bfc4c389-9991-415c-896e-32da4fd6c2d3",
   "metadata": {},
   "outputs": [],
   "source": [
    "# data cleaning"
   ]
  },
  {
   "cell_type": "markdown",
   "id": "b171ce48-4707-4c41-bd2a-4e7101518536",
   "metadata": {},
   "source": [
    "## Joining Data\n",
    "Suppose we want to investigate the effect on climate (eg. temperatures, rainfall) on daily cyclist and pedestrian counts. We could import daily weather data 'BrisbaneDailyWeather.csv' which is gathered from the Bureau of Meteorology. We could then join the datasets together. We need to have an index or column (or set of columns) in common between the datasets in order to join them.\n",
    "\n",
    "Different types of joins / merge\n",
    "* inner (default)\n",
    "* left (use keys from left frame)\n",
    "* right (use keys from right frame)\n",
    "* outer (use keys from both frames)\n",
    "\n",
    "Join is used to join by index, whereas merge is used to join by columns.\n",
    "\n",
    "Can use left_on and right_on arguments if the joining columns have different names."
   ]
  },
  {
   "cell_type": "code",
   "execution_count": null,
   "id": "b1927f4f-36cd-4b10-8d0e-0ce896ee5a0d",
   "metadata": {},
   "outputs": [],
   "source": [
    "# import the 'BrisbaneDailyWeather.csv' file, converting the Data column to datetime format and setting it as the index."
   ]
  },
  {
   "cell_type": "code",
   "execution_count": null,
   "id": "0a08a012-c354-4c0f-bbe4-81cb30fd689c",
   "metadata": {},
   "outputs": [],
   "source": [
    "# join the datasets together, and then determine how climate effects the counts"
   ]
  }
 ],
 "metadata": {
  "kernelspec": {
   "display_name": "Python 3 (ipykernel)",
   "language": "python",
   "name": "python3"
  },
  "language_info": {
   "codemirror_mode": {
    "name": "ipython",
    "version": 3
   },
   "file_extension": ".py",
   "mimetype": "text/x-python",
   "name": "python",
   "nbconvert_exporter": "python",
   "pygments_lexer": "ipython3",
   "version": "3.10.13"
  }
 },
 "nbformat": 4,
 "nbformat_minor": 5
}
