{
 "cells": [
  {
   "cell_type": "markdown",
   "id": "cbf4809b-46b0-4144-832b-1ae38465dada",
   "metadata": {},
   "source": [
    "# Assignment Tips / Q & A"
   ]
  },
  {
   "cell_type": "code",
   "execution_count": null,
   "id": "fcc7b42c-a89e-40e0-b9b4-659d9ed5acb2",
   "metadata": {},
   "outputs": [],
   "source": []
  },
  {
   "cell_type": "markdown",
   "id": "a79838a0-2ad7-4333-ade2-4b7a4318360a",
   "metadata": {},
   "source": [
    "# Markdown\n",
    "Markdown is a programming language used to create formatted text. JupyterLab notebooks allow you to write Markdown code by adding a Markdown cell.\n",
    "\n",
    "The official website contains some useful learning resources:\n",
    "* Basic syntax: https://www.markdownguide.org/basic-syntax/\n",
    "* Cheat sheet: https://www.markdownguide.org/cheat-sheet/\n",
    "\n",
    "You can also learn by example by clicking on any Markdown cells in notebooks provided to you over the course of the semester."
   ]
  },
  {
   "cell_type": "markdown",
   "id": "9ad04811-f5da-468c-83e6-ff8b3b0dbebc",
   "metadata": {},
   "source": [
    "# Seaborn\n",
    "Seaborn is a high-level data visualisation library. Like the pandas plot method, many features of graphs will be automated such as labels. \n",
    "\n",
    "Since Seaborn is dedicated to visualisation, you can create much more advanced visuals than is possible with pandas. You can easily create plots relating 3, 4 or 5 variables by utilising hue, row and col arguments in addition to x and y.\n",
    "\n",
    "Seaborn is designed to work with long format data (all categories of a variable in one column), while pandas is designed for wide format data (each category gets a separate column). Can convert between the two with melt and pivot functions in pandas.\n",
    "\n",
    "Some useful resources from the official website include:\n",
    "* Introduction to seaborn: https://seaborn.pydata.org/tutorial/introduction.html\n",
    "* Examples: https://seaborn.pydata.org/examples/index.html\n"
   ]
  },
  {
   "cell_type": "code",
   "execution_count": null,
   "id": "458ef0f4-d239-4e45-8e63-60778ebf5941",
   "metadata": {},
   "outputs": [],
   "source": []
  },
  {
   "cell_type": "markdown",
   "id": "5b3156da-6ea1-4166-8648-f76af2da012f",
   "metadata": {},
   "source": [
    "# Classes and Modules\n",
    "Can create your own data type by defining a **class**. When defining a class, you can create attributes and methods which can then be accessed for any instance of that class. Classes are a very useful tool in programming when modelling object with unique characteristics.\n",
    "\n",
    "**Modules** can be created by storing code in a .py file. They can then be imported the same way as other modules you have seen throughout the semester. Modules allow you to store a large collection of code all in one place. You can store things such as:\n",
    "* Functions\n",
    "* Classes (ie. data types)\n",
    "* Variables (ie. constants)"
   ]
  },
  {
   "cell_type": "code",
   "execution_count": null,
   "id": "57b69fac-a30b-47dc-b195-5bbd71bd4936",
   "metadata": {},
   "outputs": [],
   "source": []
  }
 ],
 "metadata": {
  "kernelspec": {
   "display_name": "Python 3 (ipykernel)",
   "language": "python",
   "name": "python3"
  },
  "language_info": {
   "codemirror_mode": {
    "name": "ipython",
    "version": 3
   },
   "file_extension": ".py",
   "mimetype": "text/x-python",
   "name": "python",
   "nbconvert_exporter": "python",
   "pygments_lexer": "ipython3",
   "version": "3.12.11"
  }
 },
 "nbformat": 4,
 "nbformat_minor": 5
}
