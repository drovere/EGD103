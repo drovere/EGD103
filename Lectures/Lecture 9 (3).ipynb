{
 "cells": [
  {
   "cell_type": "markdown",
   "id": "27a5a143-06b1-4c40-b5d8-3d68f84739c2",
   "metadata": {},
   "source": [
    "# Lecture 9 - Summarising Data\n",
    "In this lecture we will look at summarising data in Pandas. The dataset we will be using contains information about domestic flights in Australia. The import is provided below."
   ]
  },
  {
   "cell_type": "code",
   "execution_count": null,
   "id": "3ef24975-abea-4bc1-a4cf-731f6f6eb5be",
   "metadata": {
    "tags": []
   },
   "outputs": [],
   "source": [
    "import pandas as pd\n",
    "flights = pd.read_csv('Data/domestic_flights.csv')\n",
    "flights"
   ]
  },
  {
   "cell_type": "markdown",
   "id": "21d58604-e14e-4826-a34b-795a6f3a3183",
   "metadata": {},
   "source": [
    "## Datetime Data\n",
    "We can see that the dataframe has a 'Month' column that contains datetime information. By default, this is imported as an object (ie. string). We can instead import this as a datetime variable, which means we can easily extract features from the date (eg. month, year). This also means Python will order by Month chonologically rather than alphabetically."
   ]
  },
  {
   "cell_type": "code",
   "execution_count": null,
   "id": "80119b72-2be9-48cb-a05b-35d67b81a4fd",
   "metadata": {},
   "outputs": [],
   "source": [
    "flights = pd.read_csv('Data/domestic_flights.csv', parse_dates = ['Month'], date_format = '%b-%y')\n",
    "flights"
   ]
  },
  {
   "cell_type": "markdown",
   "id": "4a98e8e9-9c01-4517-a428-ee162da95dd0",
   "metadata": {},
   "source": [
    "Now we would you like you to create the computed columns detailed below. The last two will require you to access datetime methods/attributes.\n",
    "* Passenger load factor - describes the percentage of seats filled.\n",
    "* Monthly distance - describes the total distance flown for that month.\n",
    "* Month name\n",
    "* Year"
   ]
  },
  {
   "cell_type": "code",
   "execution_count": null,
   "id": "e163a508-58ef-4277-b716-9f0ab99bda76",
   "metadata": {},
   "outputs": [],
   "source": [
    "# insert code here to add new columns"
   ]
  },
  {
   "cell_type": "markdown",
   "id": "a8806ab0-3066-4f01-8ee5-db3a149976e1",
   "metadata": {},
   "source": [
    "## Aggregates\n",
    "Last week you looked at how to perform simple aggregates. This week you will explore problems that require more advanced aggregation techniques, such as grouped aggregates and custom aggregates.\n",
    "\n",
    "Use aggregation to answer the question below:"
   ]
  },
  {
   "cell_type": "code",
   "execution_count": null,
   "id": "b49cd6e7-bb15-452e-aaf4-61297e2dbe1f",
   "metadata": {},
   "outputs": [],
   "source": [
    "# What is the total distance flown by all aircraft in the data?"
   ]
  },
  {
   "cell_type": "code",
   "execution_count": null,
   "id": "3a421b84-f0a0-4f3a-a692-24d5e9345f75",
   "metadata": {},
   "outputs": [],
   "source": [
    "# What are the 5 most popular flight routes in the dataframe by total passenger trips?"
   ]
  },
  {
   "cell_type": "code",
   "execution_count": null,
   "id": "3352eda5-add1-4bed-85e3-cedd53120b09",
   "metadata": {},
   "outputs": [],
   "source": [
    "# What is the newest flight route in the data?"
   ]
  },
  {
   "cell_type": "code",
   "execution_count": null,
   "id": "c1d13fcd-1050-499b-b5fd-a643370d15cc",
   "metadata": {},
   "outputs": [],
   "source": [
    "# What is the mean and standard deviation of passenger load factor?"
   ]
  },
  {
   "cell_type": "code",
   "execution_count": null,
   "id": "d3f088bd-3ff0-429d-aaf8-0835e5b59c21",
   "metadata": {},
   "outputs": [],
   "source": [
    "# In what years was passenger load factor at its lowest?"
   ]
  },
  {
   "cell_type": "markdown",
   "id": "b8fadeaa-4d78-4868-a84d-9d2e8bbc3df5",
   "metadata": {},
   "source": [
    "## Visuals\n",
    "In pandas you can visualise data with the <code>plot</code> method. This method has lots of potential arguments which can be found here: https://pandas.pydata.org/docs/reference/api/pandas.DataFrame.plot.html. The main ones to consider when starting out are:\n",
    "\n",
    "<code>x</code>: this is a label that describes what column of the dataframe goes on the x-axis of the plot. Defaults to the index of the series/dataframe.\n",
    "\n",
    "<code>y</code>: this is a label that describes what column of the dataframe foes on the y-axis of the plot. Defaults to all columns of the series/dataframe.\n",
    "\n",
    "<code>kind</code>: this is a string describing what type of plot to create. Some notable types are given below:\n",
    "* 'line' (default)\n",
    "* 'bar'\n",
    "* 'barh'\n",
    "* 'hist'\n",
    "* 'box'\n",
    "* 'kde' / 'density'\n",
    "* 'pie'\n",
    "* 'scatter'\n",
    "\n",
    "Use data visuals to answer the following questions:\n",
    "* How do the total number of passenger trips and seats vary for each month vary with time in the data?\n",
    "* What percentage of annual flights come in each month of the year?\n",
    "* What is the relationship between passenger trips and aircraft trips?\n",
    "* How many people flew on each Brisbane route in 2018?"
   ]
  },
  {
   "cell_type": "code",
   "execution_count": null,
   "id": "ba25abb3-ce47-467f-8f54-3fc4caaf1ece",
   "metadata": {},
   "outputs": [],
   "source": [
    "# How do the total number of passenger trips and seats vary for each month vary with time in the data?# "
   ]
  },
  {
   "cell_type": "code",
   "execution_count": null,
   "id": "2470fb37-05dd-40ed-93b1-c644e278740b",
   "metadata": {},
   "outputs": [],
   "source": [
    "# What percentage of annual flights come in each month of the year?"
   ]
  },
  {
   "cell_type": "code",
   "execution_count": null,
   "id": "d30de147-0f40-4d6a-bb4c-6fa5dc35dc7c",
   "metadata": {},
   "outputs": [],
   "source": [
    "# What is the relationship between passenger trips and aircraft trips?"
   ]
  },
  {
   "cell_type": "code",
   "execution_count": null,
   "id": "6d676be9-7f86-4dac-98d7-6aa2e1bb0449",
   "metadata": {},
   "outputs": [],
   "source": [
    "# How many people flew on each Brisbane route in 2018?"
   ]
  }
 ],
 "metadata": {
  "kernelspec": {
   "display_name": "Python 3 (ipykernel)",
   "language": "python",
   "name": "python3"
  },
  "language_info": {
   "codemirror_mode": {
    "name": "ipython",
    "version": 3
   },
   "file_extension": ".py",
   "mimetype": "text/x-python",
   "name": "python",
   "nbconvert_exporter": "python",
   "pygments_lexer": "ipython3",
   "version": "3.12.9"
  }
 },
 "nbformat": 4,
 "nbformat_minor": 5
}
