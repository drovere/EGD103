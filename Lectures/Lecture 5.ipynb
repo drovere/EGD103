{
 "cells": [
  {
   "cell_type": "markdown",
   "id": "149dfc32-cb9e-457c-bb74-ed5c220e399e",
   "metadata": {},
   "source": [
    "## Range For loops\n",
    "A common type of sequence used in for loops is a range. A range is a convenient way to create an evenly spaced sequence of numbers to iterate through.\n",
    "\n",
    "The general syntax is given below. start defaults to zero and step defaults to one when not provided. The stop value is non-inclusive.\n",
    "```{Python}\n",
    "range(start, stop, step)\n",
    "```\n",
    "\n",
    "For example, if we wanted to create a range with the numbers 0-9:"
   ]
  },
  {
   "cell_type": "code",
   "execution_count": 1,
   "id": "c5efe53b-6fbd-480d-aa16-4d055f7d7947",
   "metadata": {
    "tags": []
   },
   "outputs": [
    {
     "data": {
      "text/plain": [
       "range(0, 10)"
      ]
     },
     "execution_count": 1,
     "metadata": {},
     "output_type": "execute_result"
    }
   ],
   "source": [
    "range(10)"
   ]
  },
  {
   "cell_type": "markdown",
   "id": "a02357d9-a76b-45d0-943b-18a9df24c3a5",
   "metadata": {},
   "source": [
    "Printing a range won't allow you to see the elements it contains. To see what values are inside the range, we can convert it to a list."
   ]
  },
  {
   "cell_type": "code",
   "execution_count": 2,
   "id": "009610fc-47b7-4931-9d46-df53efefe00d",
   "metadata": {
    "tags": []
   },
   "outputs": [
    {
     "data": {
      "text/plain": [
       "[0, 1, 2, 3, 4, 5, 6, 7, 8, 9]"
      ]
     },
     "execution_count": 2,
     "metadata": {},
     "output_type": "execute_result"
    }
   ],
   "source": [
    "list(range(10))"
   ]
  },
  {
   "cell_type": "markdown",
   "id": "c3e3d255-90a2-4d3b-8913-8365a6eb1a25",
   "metadata": {},
   "source": [
    "Range for loops are most useful when you want to iterate through index values. For example, if we had parallel lists of voltage and current:\n",
    "```{Python}\n",
    "voltage = [5, 4, 3, 6, 7, 9]\n",
    "current = [0.1, 0.2, 0.1, 0.3, 0.25, 0.2]\n",
    "```\n",
    "We can iterate through the index values to easily calculate the power for each corresponding element. This process is known as an element-wise operation."
   ]
  },
  {
   "cell_type": "code",
   "execution_count": 5,
   "id": "b8483a3c-5e1b-4081-af53-4d03e14bc201",
   "metadata": {
    "tags": []
   },
   "outputs": [],
   "source": [
    "# eg. compute electrical power (in class)"
   ]
  },
  {
   "cell_type": "markdown",
   "id": "9e767495-6d0d-4673-aacf-489cff9ab5b6",
   "metadata": {},
   "source": [
    "# While Loops\n",
    "A while loop will continue to iterate through a block of code while its corresponding expression is true. They are useful when the number of iterations is conditional (as opposed to pre-determined like a for loop). This makes them particularly useful for numerical methods, which iterate until the solution converges or reaches a certain degree of accuracy.\n",
    "\n",
    "The general syntax for a while loop is:\n",
    "```python\n",
    "while logical_expression:\n",
    "    while_loop_body\n",
    "```\n",
    "where the `logical_expression` is an expression that compares values and returns `True` or `False` (you used these in if statements!).\n",
    "\n",
    "Some caution must be taken with while loops. If the logical expression always returns true, the while loop will iterate infinitely."
   ]
  },
  {
   "cell_type": "code",
   "execution_count": null,
   "id": "e8035c71-7109-4a28-8833-5439eef9be24",
   "metadata": {},
   "outputs": [],
   "source": [
    "# Example: Newton-Raphson Method\n",
    "# The Newton-Raphson method is used to numerically solve roots of a function. \n",
    "# The process is repeated until the function is sufficiently close to zero\n",
    "\n",
    "import math\n",
    "\n",
    "def example_function(x):\n",
    "    return x ** 2 + 5 * x + 6\n",
    "\n",
    "def example_derivative(x):\n",
    "    return 2 * x + 5\n",
    "\n",
    "# create a function that iterates through the Newton-Raphson method\n",
    "def newton_raphson(function, derivative, x0):\n",
    "    pass\n",
    "\n",
    "newton_raphson(example_function, example_derivative, -1000)"
   ]
  },
  {
   "cell_type": "markdown",
   "id": "6ffe3160-0bc2-4222-b6b3-4a306ce10887",
   "metadata": {},
   "source": [
    "# break and continue\n",
    "`break` and `continue` are two key words which are useful when working with loops. \n",
    "\n",
    "`break` allows early termination of a loop.\n",
    "\n",
    "`continue` allows you to skip to the next iteration of a loop."
   ]
  },
  {
   "cell_type": "code",
   "execution_count": null,
   "id": "18c12936-dbd4-4ecf-a739-19861487dade",
   "metadata": {},
   "outputs": [],
   "source": [
    "# examples: "
   ]
  },
  {
   "cell_type": "markdown",
   "id": "e388f8fe-9a67-4ece-b2fb-3d964ec873a6",
   "metadata": {},
   "source": [
    "# Nested Loops\n",
    "A nested loop refers to when one loop is placed inside another. A generic example of a nested for loop is given below.\n",
    "```python\n",
    "for values in outer_sequence:\n",
    "    for other_values in inner_sequence:\n",
    "        for_loop_body\n",
    "\n",
    "```\n",
    "For each iteration of the outer sequence, the inner sequence will iterate through all of its values. This means that the total number of iterations is `len(outer_sequence) * len(inner_sequence)`. Nested loops are typically used when working with 2-dimensional arrangements of data (eg. representing a matrix as a list of lists).\n",
    "\n",
    "\n"
   ]
  },
  {
   "cell_type": "code",
   "execution_count": null,
   "id": "0acff66d-6e5c-45fd-9639-c4c7492b94c2",
   "metadata": {},
   "outputs": [],
   "source": [
    "# example: write a function that finds the largest value in a list of lists."
   ]
  }
 ],
 "metadata": {
  "kernelspec": {
   "display_name": "Python 3 (ipykernel)",
   "language": "python",
   "name": "python3"
  },
  "language_info": {
   "codemirror_mode": {
    "name": "ipython",
    "version": 3
   },
   "file_extension": ".py",
   "mimetype": "text/x-python",
   "name": "python",
   "nbconvert_exporter": "python",
   "pygments_lexer": "ipython3",
   "version": "3.12.9"
  }
 },
 "nbformat": 4,
 "nbformat_minor": 5
}
