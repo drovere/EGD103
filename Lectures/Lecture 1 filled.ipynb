{
 "cells": [
  {
   "cell_type": "markdown",
   "id": "4f663ef1-d20c-4b70-84c7-4c33e8cb4fd9",
   "metadata": {},
   "source": [
    "# EGD103 Lecture 1 - Introduction to Python Programming in JupyterLab\n",
    "In this lecture, we explore introductory Python programming within the JupyterLab programming environment. By the end of the class, you should feel comfortable using Python as a calculator by entering single-line mathematical expressions."
   ]
  },
  {
   "cell_type": "code",
   "execution_count": null,
   "id": "c222f49c-f741-492b-aaa4-c48d0d26d325",
   "metadata": {},
   "outputs": [],
   "source": [
    "# hello"
   ]
  },
  {
   "cell_type": "markdown",
   "id": "84169a55-aef2-46d5-a96c-edf889ecc455",
   "metadata": {},
   "source": [
    "## Evaluating Expressions\n",
    "We will start by typing some simple expressions into Python using mathematical operators.\n",
    "| Operator | Description |\n",
    "| ----------- | ----------- |\n",
    "| + | Addition |\n",
    "| - | Subtraction |\n",
    "| * | Multiplication |\n",
    "| / | Division |\n",
    "| // | Floored division |\n",
    "| ** | Exponentiation |\n",
    "| % | Remainder/modulus |\n",
    "\n",
    "In expressions with multiple operators, it is important for you to understand the order of operations. A full list for Python is provided here: https://docs.python.org/3/reference/expressions.html#evaluation-order. "
   ]
  },
  {
   "cell_type": "code",
   "execution_count": 1,
   "id": "db8e8d9d-093d-4841-91df-9a28f9072dc7",
   "metadata": {},
   "outputs": [
    {
     "data": {
      "text/plain": [
       "-1"
      ]
     },
     "execution_count": 1,
     "metadata": {},
     "output_type": "execute_result"
    }
   ],
   "source": [
    "# subtraction example\n",
    "3 - 4"
   ]
  },
  {
   "cell_type": "code",
   "execution_count": 2,
   "id": "188a217d-15c8-4eae-83ac-4f85b1ed8b0b",
   "metadata": {},
   "outputs": [
    {
     "data": {
      "text/plain": [
       "8"
      ]
     },
     "execution_count": 2,
     "metadata": {},
     "output_type": "execute_result"
    }
   ],
   "source": [
    "# multiplication example\n",
    "4 * 2"
   ]
  },
  {
   "cell_type": "code",
   "execution_count": 3,
   "id": "6d8ff1d1-7159-40ee-978b-a73b69e1e08a",
   "metadata": {},
   "outputs": [
    {
     "data": {
      "text/plain": [
       "25"
      ]
     },
     "execution_count": 3,
     "metadata": {},
     "output_type": "execute_result"
    }
   ],
   "source": [
    "# exponentiation example\n",
    "5 ** 2"
   ]
  },
  {
   "cell_type": "code",
   "execution_count": 4,
   "id": "bc11c26d-b965-41bc-b82c-d7149e4ef953",
   "metadata": {},
   "outputs": [
    {
     "data": {
      "text/plain": [
       "4.5"
      ]
     },
     "execution_count": 4,
     "metadata": {},
     "output_type": "execute_result"
    }
   ],
   "source": [
    "# some more examples (in class)\n",
    "9 / 2"
   ]
  },
  {
   "cell_type": "code",
   "execution_count": 5,
   "id": "3d0203f0-323c-492c-88c8-f0d311f0375d",
   "metadata": {},
   "outputs": [
    {
     "data": {
      "text/plain": [
       "4"
      ]
     },
     "execution_count": 5,
     "metadata": {},
     "output_type": "execute_result"
    }
   ],
   "source": [
    "# divide and round down\n",
    "9 // 2"
   ]
  },
  {
   "cell_type": "code",
   "execution_count": 6,
   "id": "db216542-d507-4dde-b562-11761d0c2d4a",
   "metadata": {},
   "outputs": [
    {
     "data": {
      "text/plain": [
       "1"
      ]
     },
     "execution_count": 6,
     "metadata": {},
     "output_type": "execute_result"
    }
   ],
   "source": [
    "# find remainder after division\n",
    "9 % 2"
   ]
  },
  {
   "cell_type": "code",
   "execution_count": 7,
   "id": "a31b843e-59c9-4446-99f2-ec0d2168dcfc",
   "metadata": {},
   "outputs": [
    {
     "data": {
      "text/plain": [
       "11"
      ]
     },
     "execution_count": 7,
     "metadata": {},
     "output_type": "execute_result"
    }
   ],
   "source": [
    "# order of operations is important - BOMDAS\n",
    "3 + 4 * 2"
   ]
  },
  {
   "cell_type": "code",
   "execution_count": 8,
   "id": "54fc4111-4678-43c6-a43c-0d27cd368da7",
   "metadata": {},
   "outputs": [
    {
     "data": {
      "text/plain": [
       "14"
      ]
     },
     "execution_count": 8,
     "metadata": {},
     "output_type": "execute_result"
    }
   ],
   "source": [
    "# use brackets to control order of operations\n",
    "(3 + 4) * 2"
   ]
  },
  {
   "cell_type": "markdown",
   "id": "103fc092-def3-469c-af9c-c837b5248fff",
   "metadata": {},
   "source": [
    "## Comments\n",
    "You may have noticed that the previous examples contained comments. Comments are sections of code that are not exectuted by a program. Their purpose is to be read by humans, and are helpful in making code easier to understand.\n",
    "\n",
    "In python, we comment by using the `#` symbol."
   ]
  },
  {
   "cell_type": "code",
   "execution_count": null,
   "id": "aecd38dc-b54f-424d-9f41-eb1906f46cbd",
   "metadata": {},
   "outputs": [],
   "source": [
    "# This is an example comment. Nothing will be output when running this, since it contains no Python commands."
   ]
  },
  {
   "cell_type": "code",
   "execution_count": 9,
   "id": "e29e9a43-09c6-4cc7-9bc4-6c3322af90e1",
   "metadata": {},
   "outputs": [
    {
     "ename": "SyntaxError",
     "evalue": "invalid syntax (1942356145.py, line 1)",
     "output_type": "error",
     "traceback": [
      "  \u001b[36mCell\u001b[39m\u001b[36m \u001b[39m\u001b[32mIn[9]\u001b[39m\u001b[32m, line 1\u001b[39m\n\u001b[31m    \u001b[39m\u001b[31mThis is an example comment. Nothing will be output when running this, since it contains no Python commands.\u001b[39m\n               ^\n\u001b[31mSyntaxError\u001b[39m\u001b[31m:\u001b[39m invalid syntax\n"
     ]
    }
   ],
   "source": [
    "This is an example comment. Nothing will be output when running this, since it contains no Python commands."
   ]
  },
  {
   "cell_type": "markdown",
   "id": "2949b86f-b8fb-4282-b686-fc6f62d990f6",
   "metadata": {
    "tags": []
   },
   "source": [
    "## Calling functions\n",
    "A function is a named block of code that can be executed by supplying input information (called arguments).\n",
    "\n",
    "The general syntax for calling a function is: `function_name(argument)`. \n",
    "\n",
    "In the event a function has multiple inputs, they are separated by commas `function_name(argument1, argument2, ..., argumentN)`.\n",
    "\n",
    "Base Python has relatively few functions built in - only 68!. A full list can be found here: https://docs.python.org/3/library/functions.html.\n",
    "\n",
    "Some useful functions to get started with are given below.\n",
    "| Function | Description |\n",
    "| ----------- | ----------- |\n",
    "| `abs` | Finds the absolute value of the argument |\n",
    "| `round` | Rounds first argument |\n",
    "| `max` | Outputs the largest argument |\n",
    "| `min` | Outputs the smallest argument |\n",
    "| `sum` | Adds all arguments |\n",
    "| `print` | Prints object  |\n",
    "| `help` | Get help documentation for a function/module/class/method/keyword |\n"
   ]
  },
  {
   "cell_type": "code",
   "execution_count": 10,
   "id": "4b51c1cd-de9c-4c3e-b1d7-4984b43bbf5f",
   "metadata": {},
   "outputs": [
    {
     "data": {
      "text/plain": [
       "10"
      ]
     },
     "execution_count": 10,
     "metadata": {},
     "output_type": "execute_result"
    }
   ],
   "source": [
    "# example function call with 1 input\n",
    "abs(-10)"
   ]
  },
  {
   "cell_type": "code",
   "execution_count": 11,
   "id": "0382d78b-e8a5-4eff-9661-d83991cc6eeb",
   "metadata": {},
   "outputs": [
    {
     "data": {
      "text/plain": [
       "9"
      ]
     },
     "execution_count": 11,
     "metadata": {},
     "output_type": "execute_result"
    }
   ],
   "source": [
    "# example function call with multiple inputs\n",
    "max(5, 2, 3, 9, 0)"
   ]
  },
  {
   "cell_type": "code",
   "execution_count": 12,
   "id": "9cf2da37-d6cb-4ad5-be11-970599b89db9",
   "metadata": {},
   "outputs": [
    {
     "ename": "TypeError",
     "evalue": "'builtin_function_or_method' object is not subscriptable",
     "output_type": "error",
     "traceback": [
      "\u001b[31m---------------------------------------------------------------------------\u001b[39m",
      "\u001b[31mTypeError\u001b[39m                                 Traceback (most recent call last)",
      "\u001b[36mCell\u001b[39m\u001b[36m \u001b[39m\u001b[32mIn[12]\u001b[39m\u001b[32m, line 1\u001b[39m\n\u001b[32m----> \u001b[39m\u001b[32m1\u001b[39m \u001b[38;5;28;43mabs\u001b[39;49m\u001b[43m[\u001b[49m\u001b[43m-\u001b[49m\u001b[32;43m10\u001b[39;49m\u001b[43m]\u001b[49m\n",
      "\u001b[31mTypeError\u001b[39m: 'builtin_function_or_method' object is not subscriptable"
     ]
    }
   ],
   "source": [
    "# an example that violates laws of calling a function\n",
    "abs[-10]"
   ]
  },
  {
   "cell_type": "code",
   "execution_count": 13,
   "id": "f31e2983-8b92-4647-bc2d-aa689d042923",
   "metadata": {},
   "outputs": [
    {
     "name": "stdout",
     "output_type": "stream",
     "text": [
      "Help on built-in function round in module builtins:\n",
      "\n",
      "round(number, ndigits=None)\n",
      "    Round a number to a given precision in decimal digits.\n",
      "\n",
      "    The return value is an integer if ndigits is omitted or None.  Otherwise\n",
      "    the return value has the same type as the number.  ndigits may be negative.\n",
      "\n"
     ]
    }
   ],
   "source": [
    "# using the help function for insight on how to use the round function\n",
    "help(round)"
   ]
  },
  {
   "cell_type": "code",
   "execution_count": 14,
   "id": "2158ba17-d958-471d-9062-5a4ac815dc36",
   "metadata": {},
   "outputs": [
    {
     "data": {
      "text/plain": [
       "10"
      ]
     },
     "execution_count": 14,
     "metadata": {},
     "output_type": "execute_result"
    }
   ],
   "source": [
    "round(10.123)"
   ]
  },
  {
   "cell_type": "code",
   "execution_count": 15,
   "id": "b752b7f6-f811-4f2c-ae53-822aa9c89e8b",
   "metadata": {},
   "outputs": [
    {
     "data": {
      "text/plain": [
       "10.12"
      ]
     },
     "execution_count": 15,
     "metadata": {},
     "output_type": "execute_result"
    }
   ],
   "source": [
    "# round to two decimal places\n",
    "round(10.123, 2)"
   ]
  },
  {
   "cell_type": "markdown",
   "id": "a8ea07b1-5f0c-4db6-827e-70e108d4b15b",
   "metadata": {
    "tags": []
   },
   "source": [
    "## Importing modules and examples using the math module\n",
    "We are able to gain access to more functions by importing modules. The syntax for importing a module is:\n",
    "`import module_name`\n",
    "\n",
    "Once imported, you can call functions within that module. The syntax for this is: `module_name.function_name(arguments)`.\n",
    "\n",
    "We will begin by looking at the `math` module. The math module contains the functions you'd expect to find on a scientific calculator, such as elementary functions (eg. $\\sin$, $\\cos$, $\\tan$, $\\exp$, $\\log$). Documentation is available here: https://docs.python.org/3/library/math.html."
   ]
  },
  {
   "cell_type": "code",
   "execution_count": 16,
   "id": "7ab2fa69-c70a-428a-be07-0ca9620cfdfc",
   "metadata": {},
   "outputs": [],
   "source": [
    "import math"
   ]
  },
  {
   "cell_type": "code",
   "execution_count": 17,
   "id": "3c95ea3b-3b88-48ee-a563-fe56cf99341a",
   "metadata": {},
   "outputs": [
    {
     "data": {
      "text/plain": [
       "0.8509035245341184"
      ]
     },
     "execution_count": 17,
     "metadata": {},
     "output_type": "execute_result"
    }
   ],
   "source": [
    "# Evaluating sin(45)\n",
    "math.sin(45)"
   ]
  },
  {
   "cell_type": "code",
   "execution_count": 18,
   "id": "0e8dfa1a-8a9f-4c29-bad7-9489d830a659",
   "metadata": {},
   "outputs": [
    {
     "ename": "NameError",
     "evalue": "name 'sin' is not defined",
     "output_type": "error",
     "traceback": [
      "\u001b[31m---------------------------------------------------------------------------\u001b[39m",
      "\u001b[31mNameError\u001b[39m                                 Traceback (most recent call last)",
      "\u001b[36mCell\u001b[39m\u001b[36m \u001b[39m\u001b[32mIn[18]\u001b[39m\u001b[32m, line 1\u001b[39m\n\u001b[32m----> \u001b[39m\u001b[32m1\u001b[39m \u001b[43msin\u001b[49m(\u001b[32m45\u001b[39m)\n",
      "\u001b[31mNameError\u001b[39m: name 'sin' is not defined"
     ]
    }
   ],
   "source": [
    "sin(45)"
   ]
  },
  {
   "cell_type": "code",
   "execution_count": 19,
   "id": "04fd29b8-6a6f-4d81-b558-97e84e56bb48",
   "metadata": {},
   "outputs": [
    {
     "name": "stdout",
     "output_type": "stream",
     "text": [
      "Help on built-in function sin in module math:\n",
      "\n",
      "sin(x, /)\n",
      "    Return the sine of x (measured in radians).\n",
      "\n"
     ]
    }
   ],
   "source": [
    "# Is the argument in degrees or radians? We can look at the help documentation.\n",
    "help(math.sin)"
   ]
  },
  {
   "cell_type": "code",
   "execution_count": 24,
   "id": "3b33adfc-b60f-480a-9359-7ec1267f3155",
   "metadata": {},
   "outputs": [
    {
     "data": {
      "text/plain": [
       "58.31007808870436"
      ]
     },
     "execution_count": 24,
     "metadata": {},
     "output_type": "execute_result"
    }
   ],
   "source": [
    "# How can we convert between degrees and radians?\n",
    "# Convert radians to degrees\n",
    "(45 * 180 / math.pi)  % 360"
   ]
  },
  {
   "cell_type": "code",
   "execution_count": 25,
   "id": "26175d95-e6a5-439c-b252-832c44ce71f3",
   "metadata": {},
   "outputs": [
    {
     "data": {
      "text/plain": [
       "58.31007808870436"
      ]
     },
     "execution_count": 25,
     "metadata": {},
     "output_type": "execute_result"
    }
   ],
   "source": [
    "# Convert radians to degrees\n",
    "math.degrees(45) % 360"
   ]
  },
  {
   "cell_type": "markdown",
   "id": "4ccc9a21-92c7-4682-b16e-74bce853bc3e",
   "metadata": {
    "tags": []
   },
   "source": [
    "### Activity 1: Using Python as a calculator\n",
    "Try using Python and the math module to calculate the values for the following mathematical expressions.\n",
    "1. $\\sin^2(1) + \\cos^2(1)$\n",
    "2. $\\log_{10}(100)$\n",
    "3. $-3 + \\cfrac{\\sqrt{3^2 - 4 \\times 1 \\times 2}}{2 \\times 2}$"
   ]
  },
  {
   "cell_type": "code",
   "execution_count": 26,
   "id": "6beb2c83-8552-4c12-b163-a89d506afc19",
   "metadata": {},
   "outputs": [
    {
     "data": {
      "text/plain": [
       "1.0"
      ]
     },
     "execution_count": 26,
     "metadata": {},
     "output_type": "execute_result"
    }
   ],
   "source": [
    "# insert Q1 answer here\n",
    "math.sin(1) ** 2 + math.cos(1) ** 2"
   ]
  },
  {
   "cell_type": "code",
   "execution_count": 28,
   "id": "41b6e22e-bb69-41ac-9f0d-a8a7476ea37d",
   "metadata": {},
   "outputs": [
    {
     "name": "stdout",
     "output_type": "stream",
     "text": [
      "Help on built-in function log in module math:\n",
      "\n",
      "log(...)\n",
      "    log(x, [base=math.e])\n",
      "    Return the logarithm of x to the given base.\n",
      "\n",
      "    If the base is not specified, returns the natural logarithm (base e) of x.\n",
      "\n"
     ]
    },
    {
     "data": {
      "text/plain": [
       "2.0"
      ]
     },
     "execution_count": 28,
     "metadata": {},
     "output_type": "execute_result"
    }
   ],
   "source": [
    "# insert Q2 answer here\n",
    "help(math.log)\n",
    "math.log(100, 10)"
   ]
  },
  {
   "cell_type": "code",
   "execution_count": 29,
   "id": "0971ed4f-4328-4cea-98bf-bdca377eb654",
   "metadata": {},
   "outputs": [
    {
     "data": {
      "text/plain": [
       "-2.75"
      ]
     },
     "execution_count": 29,
     "metadata": {},
     "output_type": "execute_result"
    }
   ],
   "source": [
    "# insert Q3 answer here\n",
    "-3 + math.sqrt(3**2 - 4 * 1 * 2) / (2 * 2)"
   ]
  },
  {
   "cell_type": "markdown",
   "id": "5a258650-402a-4334-92c7-92b9d410f26a",
   "metadata": {},
   "source": [
    "## Errors\n",
    "When programming, you are bound to make errors at some point. It is important that you are able to troubleshoot your code to identify and remove these errors. There are three main types of errors: syntax errors, runtime errors and semantic errors.\n",
    "\n",
    "**Syntax errors:** caused when code does not abide by the rules of the language. Python will do a syntax check for an entire code cell before attempting to run the code.\n",
    "\n",
    "**Runtime errors:** caused while running the code. The language is correct, but an answer cannot be computed for the task that was given (eg. divide by zero error).\n",
    "\n",
    "**Semantic errors:** caused when code runs, but the instructions are incorrect.\n",
    "\n",
    "Python will pick up syntax errors and runtime errors for you. Semantic errors will often go undetected, so it important to have sound practices in place to help detect semantic errors (eg. using test cases to verify whether your code can perform tasks correctly)."
   ]
  },
  {
   "cell_type": "code",
   "execution_count": 30,
   "id": "ecd76e70-f9bf-4fc9-8c79-04dd612ff9e5",
   "metadata": {
    "tags": []
   },
   "outputs": [
    {
     "ename": "SyntaxError",
     "evalue": "invalid syntax (2933559900.py, line 2)",
     "output_type": "error",
     "traceback": [
      "  \u001b[36mCell\u001b[39m\u001b[36m \u001b[39m\u001b[32mIn[30]\u001b[39m\u001b[32m, line 2\u001b[39m\n\u001b[31m    \u001b[39m\u001b[31m1 + 2 + ...... + 10\u001b[39m\n               ^\n\u001b[31mSyntaxError\u001b[39m\u001b[31m:\u001b[39m invalid syntax\n"
     ]
    }
   ],
   "source": [
    "# Syntax error example\n",
    "1 + 2 + ...... + 10"
   ]
  },
  {
   "cell_type": "code",
   "execution_count": 31,
   "id": "80f166c4-f84f-4ad7-a376-446205233ac2",
   "metadata": {
    "tags": []
   },
   "outputs": [
    {
     "ename": "NameError",
     "evalue": "name 'cos' is not defined",
     "output_type": "error",
     "traceback": [
      "\u001b[31m---------------------------------------------------------------------------\u001b[39m",
      "\u001b[31mNameError\u001b[39m                                 Traceback (most recent call last)",
      "\u001b[36mCell\u001b[39m\u001b[36m \u001b[39m\u001b[32mIn[31]\u001b[39m\u001b[32m, line 2\u001b[39m\n\u001b[32m      1\u001b[39m \u001b[38;5;66;03m# Runtime error example\u001b[39;00m\n\u001b[32m----> \u001b[39m\u001b[32m2\u001b[39m \u001b[43mcos\u001b[49m(\u001b[32m2\u001b[39m)\n",
      "\u001b[31mNameError\u001b[39m: name 'cos' is not defined"
     ]
    }
   ],
   "source": [
    "# Runtime error example\n",
    "cos(2)"
   ]
  },
  {
   "cell_type": "code",
   "execution_count": 32,
   "id": "1f4e8ff6-0194-40fd-9396-f63ebe53dcad",
   "metadata": {
    "tags": []
   },
   "outputs": [
    {
     "data": {
      "text/plain": [
       "1"
      ]
     },
     "execution_count": 32,
     "metadata": {},
     "output_type": "execute_result"
    }
   ],
   "source": [
    "# Semantic error for trying to solve three squared\n",
    "3 ^ 2"
   ]
  },
  {
   "cell_type": "markdown",
   "id": "af0480cc-b6b8-476e-8433-011b9bccfd32",
   "metadata": {},
   "source": [
    "### Activity 2: Errors\n",
    "Run the code cells below. Based on the output, try to explain why the error is occuring."
   ]
  },
  {
   "cell_type": "code",
   "execution_count": 33,
   "id": "6830083e-4ca6-4923-8a57-ce441f0806d0",
   "metadata": {
    "tags": []
   },
   "outputs": [
    {
     "ename": "SyntaxError",
     "evalue": "cannot assign to expression here. Maybe you meant '==' instead of '='? (2840796363.py, line 1)",
     "output_type": "error",
     "traceback": [
      "  \u001b[36mCell\u001b[39m\u001b[36m \u001b[39m\u001b[32mIn[33]\u001b[39m\u001b[32m, line 1\u001b[39m\n\u001b[31m    \u001b[39m\u001b[31m1 + 2 = 3\u001b[39m\n    ^\n\u001b[31mSyntaxError\u001b[39m\u001b[31m:\u001b[39m cannot assign to expression here. Maybe you meant '==' instead of '='?\n"
     ]
    }
   ],
   "source": [
    "1 + 2 = 3"
   ]
  },
  {
   "cell_type": "code",
   "execution_count": 34,
   "id": "d47c244a-eec5-4d23-8864-8ee5991d7a03",
   "metadata": {},
   "outputs": [
    {
     "data": {
      "text/plain": [
       "True"
      ]
     },
     "execution_count": 34,
     "metadata": {},
     "output_type": "execute_result"
    }
   ],
   "source": [
    "1 + 2 == 3"
   ]
  },
  {
   "cell_type": "code",
   "execution_count": 35,
   "id": "f37921ab-6a24-4ca4-acb2-b58d00f211c4",
   "metadata": {},
   "outputs": [
    {
     "ename": "ZeroDivisionError",
     "evalue": "division by zero",
     "output_type": "error",
     "traceback": [
      "\u001b[31m---------------------------------------------------------------------------\u001b[39m",
      "\u001b[31mZeroDivisionError\u001b[39m                         Traceback (most recent call last)",
      "\u001b[36mCell\u001b[39m\u001b[36m \u001b[39m\u001b[32mIn[35]\u001b[39m\u001b[32m, line 1\u001b[39m\n\u001b[32m----> \u001b[39m\u001b[32m1\u001b[39m \u001b[32;43m6\u001b[39;49m\u001b[43m \u001b[49m\u001b[43m/\u001b[49m\u001b[43m \u001b[49m\u001b[43m(\u001b[49m\u001b[32;43m5\u001b[39;49m\u001b[43m \u001b[49m\u001b[43m*\u001b[49m\u001b[43m \u001b[49m\u001b[32;43m2\u001b[39;49m\u001b[43m \u001b[49m\u001b[43m-\u001b[49m\u001b[43m \u001b[49m\u001b[32;43m10\u001b[39;49m\u001b[43m)\u001b[49m\n",
      "\u001b[31mZeroDivisionError\u001b[39m: division by zero"
     ]
    }
   ],
   "source": [
    "6 / (5 * 2 - 10)"
   ]
  },
  {
   "cell_type": "code",
   "execution_count": 36,
   "id": "f8e198f4-2785-470c-9a0e-07e383cefe2b",
   "metadata": {
    "tags": []
   },
   "outputs": [
    {
     "ename": "ValueError",
     "evalue": "math domain error",
     "output_type": "error",
     "traceback": [
      "\u001b[31m---------------------------------------------------------------------------\u001b[39m",
      "\u001b[31mValueError\u001b[39m                                Traceback (most recent call last)",
      "\u001b[36mCell\u001b[39m\u001b[36m \u001b[39m\u001b[32mIn[36]\u001b[39m\u001b[32m, line 1\u001b[39m\n\u001b[32m----> \u001b[39m\u001b[32m1\u001b[39m \u001b[43mmath\u001b[49m\u001b[43m.\u001b[49m\u001b[43mlog\u001b[49m\u001b[43m(\u001b[49m\u001b[43m-\u001b[49m\u001b[32;43m1\u001b[39;49m\u001b[43m)\u001b[49m\n",
      "\u001b[31mValueError\u001b[39m: math domain error"
     ]
    }
   ],
   "source": [
    "math.log(-1)"
   ]
  },
  {
   "cell_type": "code",
   "execution_count": null,
   "id": "5c999f5e-59e6-4bcc-bd53-cf7d52d7485c",
   "metadata": {},
   "outputs": [],
   "source": []
  }
 ],
 "metadata": {
  "kernelspec": {
   "display_name": "Python 3 (ipykernel)",
   "language": "python",
   "name": "python3"
  },
  "language_info": {
   "codemirror_mode": {
    "name": "ipython",
    "version": 3
   },
   "file_extension": ".py",
   "mimetype": "text/x-python",
   "name": "python",
   "nbconvert_exporter": "python",
   "pygments_lexer": "ipython3",
   "version": "3.12.11"
  }
 },
 "nbformat": 4,
 "nbformat_minor": 5
}
