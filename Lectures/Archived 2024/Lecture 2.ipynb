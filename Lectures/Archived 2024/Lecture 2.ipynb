{
 "cells": [
  {
   "cell_type": "markdown",
   "id": "eb2a7136",
   "metadata": {},
   "source": [
    "# Lecture 2 - Assignment and Functions"
   ]
  },
  {
   "cell_type": "markdown",
   "id": "3b555cec",
   "metadata": {},
   "source": [
    "## Variables and Assignment\n",
    "Recall from last week that we can assign a value to a variable name with the syntax: `variable_name = expression`. This week we will explore assignment statements in more detail."
   ]
  },
  {
   "cell_type": "markdown",
   "id": "2ac97d7f-fbd3-4bca-98bc-0faedeb2cfb6",
   "metadata": {},
   "source": [
    "### Variable Naming\n",
    "\n",
    "There are certain rules regarding variable names in Python.\n",
    "1. Names can only contain letters, numbers and/or underscores (eg. cannot contain spaces)\n",
    "2. Name cannot start with a number\n",
    "3. Cannot have the same name as a Python keyword. A list is available here: https://docs.python.org/3/reference/lexical_analysis.html#identifiers \n",
    "4. Names are case sensitive\n",
    "\n",
    "There are also some rules you should follow yourself to improve code readability. Use **meaningful** variable names and be consistent with your naming style (eg. snake case)."
   ]
  },
  {
   "cell_type": "code",
   "execution_count": null,
   "id": "d8bdfa52",
   "metadata": {},
   "outputs": [],
   "source": [
    "# valid variable names\n",
    "a = 1\n",
    "EGD103_is_fun = 2\n",
    "_hello = 3\n",
    "\n",
    "# invalid variable names\n",
    "# 2a = 4\n",
    "# EGD103 is fun = 5\n",
    "# break = 6"
   ]
  },
  {
   "cell_type": "markdown",
   "id": "4a3b7c3b-de24-435b-849d-eee4d340ed57",
   "metadata": {},
   "source": [
    "### Variable Characteristics\n",
    "We will be using variables throughout the unit, so it imperative that we understand all of their characteristics. \n",
    "\n",
    "1. A variable acts as a container for only one value."
   ]
  },
  {
   "cell_type": "code",
   "execution_count": null,
   "id": "a335b6a8-0e44-44fa-86b3-10eeb3be9158",
   "metadata": {
    "tags": []
   },
   "outputs": [],
   "source": [
    "# Storing one value in the variable a\n",
    "a = 5\n",
    "\n",
    "# A value doesn't neccessarilly contain one number.\n",
    "# The list below is a single value that contains two numbers.\n",
    "b = [5, 10] "
   ]
  },
  {
   "cell_type": "markdown",
   "id": "c2ab9a65-e626-45a9-8c07-d368a85c4717",
   "metadata": {},
   "source": [
    "2. When a variable is used in an expression, Python will use the value that is stored in the variable. If there is no value stored in the variable, you will get a syntax error."
   ]
  },
  {
   "cell_type": "code",
   "execution_count": null,
   "id": "5c715e52-260b-4a55-b623-57e23752d85a",
   "metadata": {
    "tags": []
   },
   "outputs": [],
   "source": [
    "# example expression\n",
    "a + 10"
   ]
  },
  {
   "cell_type": "code",
   "execution_count": null,
   "id": "64801b9d-c72a-4f87-8036-6c384935dbe9",
   "metadata": {
    "tags": []
   },
   "outputs": [],
   "source": [
    "# example expression returning an error\n",
    "c + 10"
   ]
  },
  {
   "cell_type": "markdown",
   "id": "e6b71c35-11d6-4232-a679-2164861722f3",
   "metadata": {},
   "source": [
    "3. When you assign a value to a variable that is already storing a value, the new value replaces the old value. This is called overwriting the variable."
   ]
  },
  {
   "cell_type": "code",
   "execution_count": null,
   "id": "3acad377-cad1-4a31-94b9-425dbba1d0dc",
   "metadata": {
    "tags": []
   },
   "outputs": [],
   "source": [
    "print(a)\n",
    "a = a - 2\n",
    "print(a)"
   ]
  },
  {
   "cell_type": "markdown",
   "id": "8c261c87-f7b8-420f-959c-510dfc0a0648",
   "metadata": {},
   "source": [
    "### Special Assignment Operators\n",
    "We have learn that the = sign is the assignment operator. Python also contains some other assignment operators that can be used to update value assigned to a variable."
   ]
  },
  {
   "cell_type": "code",
   "execution_count": null,
   "id": "11f63bce-1d02-4042-a7eb-c8941aa9c50b",
   "metadata": {
    "tags": []
   },
   "outputs": [],
   "source": [
    "a += 2 # a = a + 2\n",
    "a"
   ]
  },
  {
   "cell_type": "code",
   "execution_count": null,
   "id": "8eb2c939-81a3-44b8-8093-7ab6a8fd59cc",
   "metadata": {},
   "outputs": [],
   "source": [
    "a -= 2 # a = a - 2\n",
    "a"
   ]
  },
  {
   "cell_type": "code",
   "execution_count": null,
   "id": "e300ce9f-de53-4258-ada2-acdd52baf4c4",
   "metadata": {},
   "outputs": [],
   "source": [
    "a *= 2 # a = a * 2\n",
    "a"
   ]
  },
  {
   "cell_type": "code",
   "execution_count": null,
   "id": "222f32f5-de29-4d75-a4a8-9df2042d7ec5",
   "metadata": {},
   "outputs": [],
   "source": [
    "a /= 2 # a = a / 2\n",
    "a"
   ]
  },
  {
   "cell_type": "markdown",
   "id": "f92f4b1d",
   "metadata": {},
   "source": [
    "## Tracing and Debugging\n",
    "One way we can monitor the value of each variable is by tracing the code. In this process, we manually record the value of each variable in a table after executing each line of code.\n",
    "\n",
    "Another way we can monitor this is by using the debugging tool. This allows us to access a variable explorer and add breakpoints in our code, so that it can be run one line at a time, or in small chunks."
   ]
  },
  {
   "cell_type": "markdown",
   "id": "31d0b174-fb68-4978-b463-648a86ec208c",
   "metadata": {},
   "source": [
    "### Activity 1: Use the debugger to trace the variables in the code below. What was the score at half time?"
   ]
  },
  {
   "cell_type": "code",
   "execution_count": null,
   "id": "0f7f9644",
   "metadata": {},
   "outputs": [],
   "source": [
    "# scoring an NRL game\n",
    "CONVERTED_TRY = 6\n",
    "TRY = 4\n",
    "\n",
    "# start of game\n",
    "dolphins_score = 0\n",
    "roosters_score = 0\n",
    "\n",
    "# first half\n",
    "roosters_score += CONVERTED_TRY\n",
    "dolphins_score += CONVERTED_TRY\n",
    "roosters_score += CONVERTED_TRY\n",
    "dolphins_score += CONVERTED_TRY\n",
    "\n",
    "# second half\n",
    "dolphins_score += CONVERTED_TRY\n",
    "dolphins_score += CONVERTED_TRY\n",
    "dolphins_score += TRY\n",
    "roosters_score += CONVERTED_TRY"
   ]
  },
  {
   "cell_type": "markdown",
   "id": "f1524f74",
   "metadata": {},
   "source": [
    "## User Defined Functions\n",
    "Last week you used in-built functions, which could allow you to easily perform tasks by running pre-written blocks of code. In-built functions generally only exist for quite common or general tasks. In the event you are working on a more specific tasks, you may want to create your own function.\n",
    "\n",
    "The syntax for creating a function is:\n",
    "\n",
    "```python\n",
    "def function_name(arguments):  \n",
    "    function_body\n",
    "```\n",
    "\n",
    "Once the function has been created, you can call the functions just like an in-built function.\n",
    "\n",
    "```python\n",
    "function_name(arguments)\n",
    "```"
   ]
  },
  {
   "cell_type": "markdown",
   "id": "d8e4328a-9691-4e83-947a-3c56ec6a5b54",
   "metadata": {},
   "source": [
    "### Activity 2: Functions"
   ]
  },
  {
   "cell_type": "code",
   "execution_count": null,
   "id": "e2051201-8c50-41e7-868c-43457a5cf4df",
   "metadata": {},
   "outputs": [],
   "source": [
    "# eg. let's create a function that solves the roots of a quadratic"
   ]
  },
  {
   "cell_type": "code",
   "execution_count": null,
   "id": "1fadd7a0",
   "metadata": {},
   "outputs": [],
   "source": [
    "# eg. let's create some functions for 2D forces"
   ]
  }
 ],
 "metadata": {
  "kernelspec": {
   "display_name": "Python 3 (ipykernel)",
   "language": "python",
   "name": "python3"
  },
  "language_info": {
   "codemirror_mode": {
    "name": "ipython",
    "version": 3
   },
   "file_extension": ".py",
   "mimetype": "text/x-python",
   "name": "python",
   "nbconvert_exporter": "python",
   "pygments_lexer": "ipython3",
   "version": "3.11.9"
  }
 },
 "nbformat": 4,
 "nbformat_minor": 5
}
