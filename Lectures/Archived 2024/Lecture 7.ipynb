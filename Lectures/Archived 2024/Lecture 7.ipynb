{
 "cells": [
  {
   "cell_type": "markdown",
   "id": "cf60d54c-4e95-40d0-8883-22cb7f0b021d",
   "metadata": {},
   "source": [
    "# Lecture 7 - Numerical Computing with NumPy"
   ]
  },
  {
   "cell_type": "code",
   "execution_count": null,
   "id": "c9269b41-7025-48ff-ae0a-542989d2d078",
   "metadata": {},
   "outputs": [],
   "source": [
    "import numpy as np"
   ]
  },
  {
   "cell_type": "markdown",
   "id": "2e0e1ec9-e2a0-4c90-93ea-26a4a41fda96",
   "metadata": {},
   "source": [
    "## Creating NumPy Arrays"
   ]
  },
  {
   "cell_type": "code",
   "execution_count": null,
   "id": "5221c141-4278-4577-8b9e-2e2af7ea5eb4",
   "metadata": {},
   "outputs": [],
   "source": [
    "# examples"
   ]
  },
  {
   "cell_type": "markdown",
   "id": "39adfde6-17a5-4493-8651-be7d84d1fbf6",
   "metadata": {},
   "source": [
    "## Element-wise Processes\n",
    "NumPy supports elementwise operations, functions and indexing, avoiding the need for loops!"
   ]
  },
  {
   "cell_type": "code",
   "execution_count": null,
   "id": "63955532-9174-40e5-99d0-d5dafce743df",
   "metadata": {},
   "outputs": [],
   "source": [
    "# examples"
   ]
  },
  {
   "cell_type": "markdown",
   "id": "90a37205-f5cc-4388-9842-3d8bbae27752",
   "metadata": {},
   "source": [
    "## Indexing and Slicing\n",
    "NumPy arrays can be indexed and sliced like lists. Further functionality is also available for higher dimensional arrays, since arrays understand the concept of dimensionality. For example, in a matrix you could index with:\n",
    "\n",
    "```{python}\n",
    "matrix_name[row_index, col_index]\n",
    "```"
   ]
  },
  {
   "cell_type": "code",
   "execution_count": null,
   "id": "aa7b9951-ef3b-4ca4-b283-ce4a3db6726a",
   "metadata": {},
   "outputs": [],
   "source": [
    "# examples"
   ]
  },
  {
   "cell_type": "markdown",
   "id": "5726d376-d3cf-402e-9c8c-6425ad2f54a4",
   "metadata": {},
   "source": [
    "## Mathematics with NumPy\n",
    "NumPy has functionality to support more advanced mathematics beyond the math module. This includes statistics, linear algebra and numerical methods."
   ]
  },
  {
   "cell_type": "code",
   "execution_count": null,
   "id": "30c8cb7a-c9ba-4ca6-9dc3-9acb725567cd",
   "metadata": {},
   "outputs": [],
   "source": [
    "# examples"
   ]
  },
  {
   "cell_type": "markdown",
   "id": "6df6dd06-b077-4cb3-b1ca-e24f9b21613f",
   "metadata": {},
   "source": [
    "## Plotting with MatPlotLib"
   ]
  },
  {
   "cell_type": "code",
   "execution_count": null,
   "id": "ac482d3f-fa53-4f46-8479-90ed562a1a51",
   "metadata": {},
   "outputs": [],
   "source": [
    "# example"
   ]
  }
 ],
 "metadata": {
  "kernelspec": {
   "display_name": "Python 3 (ipykernel)",
   "language": "python",
   "name": "python3"
  },
  "language_info": {
   "codemirror_mode": {
    "name": "ipython",
    "version": 3
   },
   "file_extension": ".py",
   "mimetype": "text/x-python",
   "name": "python",
   "nbconvert_exporter": "python",
   "pygments_lexer": "ipython3",
   "version": "3.10.13"
  }
 },
 "nbformat": 4,
 "nbformat_minor": 5
}
