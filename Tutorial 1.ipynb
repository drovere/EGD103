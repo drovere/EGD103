{
 "cells": [
  {
   "cell_type": "markdown",
   "id": "3abd0d2c",
   "metadata": {
    "tags": []
   },
   "source": [
    "# Topic: Python Fundamentals\n",
    "In this tutorial you will practice some Python fundamentals. Firstly you will treat Python like a calculator by entering single line expressions. Next, you will use variables and assignment to help solve problems that require multiple lines of code. Finally, you will define your own functions.\n",
    "\n",
    "## Python Concepts: \n",
    "* variables\n",
    "* arithmetic operators\n",
    "* calling built-in functions\n",
    "* accessing modules\n",
    "* Defining new functions\n",
    "* Returning value from function\n",
    "* Parameters and arguments\n",
    "\n",
    "### Keywords\n",
    "* <code>import</code>\n",
    "* <code>def</code>\n",
    "* <code>return</code>\n",
    "\n",
    "### Modules:\n",
    "<code>math</code> [<code>pi</code>, <code>tan</code>, <code>sin</code>, <code>cos</code>, <code>sqrt</code>]\n",
    "\n",
    "---\n",
    "\n"
   ]
  },
  {
   "cell_type": "markdown",
   "id": "d47c1d36-7fc4-428a-bdea-d742906351ea",
   "metadata": {},
   "source": [
    "<u><b>EXERCISES:</b></u>\n",
    "<br>\n",
    "[JupyterLab Basics](#jupyterlab_basics)\n",
    "<br>\n",
    "\n",
    "[Algebraic Expressions](#Algebraic_Expressions):\n",
    "> [$5x^3$](#5x^3)<br>\n",
    "> [$4x^2 + 7x^3 - 9x + 5$](#4x^2+7x^3-9x+5)<br>\n",
    "> [$\\sqrt{4x^3}$](#sqrt(4x^3))<br>\n",
    "> [$7\\sqrt{x^{x+1}}$](#7sqrt(x^(x+1)))<br>\n",
    "\n",
    "[Geometry](#Geometry)<br>\n",
    "> [Area of a Triangle](#area_triangle)<br>\n",
    "> [Volume of a Cylinder](#volume_cylinder)<br>\n",
    "> [Length of Hypotenuse](#length_hypotenuse)<br>\n",
    "> [Area of Trapezoid](#area_trapezoid)<br>\n",
    "> [Surface Area of Cone](#surface_area_cone)<br>\n",
    "> [Area of Regular Polygon](#area_regular_polygon)<br>\n",
    "\n",
    "[Variables and Assignment](#variables_and_assignment):\n",
    "> [Average Speed](#average_speed)<br>\n",
    "> [Earth vs Moon](#earth_vs_moon)<br>\n",
    "> [Microcentury](#microcentury)<br>\n",
    "\n",
    "[User Defined Functions](#variables_and_assignment):\n",
    "> [Hot Air Balloon](#hot_air_balloon)<br>\n",
    "> [Road Curvature Design](#road_curvature_design)<br>\n",
    "> [Equivalent Resistance](#equivalent_resistance)<br>\n",
    "<hr>"
   ]
  },
  {
   "cell_type": "markdown",
   "id": "4d5bfca0-935a-45f7-be6b-3eeaf0640543",
   "metadata": {
    "tags": []
   },
   "source": [
    "# <a name=\"jupyterlab_basics\"></a>JupyterLab Basics"
   ]
  },
  {
   "cell_type": "markdown",
   "id": "2d89d048-731d-4d79-b865-41fd4394fc48",
   "metadata": {
    "tags": []
   },
   "source": [
    "Each 'cell' in a JupyterLab Notebook can contain one of three content <em>types</em>:\n",
    "* Code\n",
    "* Markdown or\n",
    "* Raw \n",
    "\n",
    "You can change the <em>type</em> by using the dropdown widget on the menu, which display the current <em>type</em> selected.  (Initially \"Markdown\" should be visible.)\n",
    "\n",
    "The result of 'executing' a cell (by either using the 'play' button on the menu (triangle), or by using the key combination Control+ENTER) depends on the cell <em>type</em>.  If it is <strong>Code</strong>, that code is evaluated.  If it is <strong>Markdown</strong>, the text will be displayed according to the markup tags used to format the text. If it is <strong>Raw</strong>, the text will simply be displayed 'as is', ie as plain text.  Notice that, before execution, the contents of cells looks different depending on the selected <em>type</em>.\n",
    "\n",
    "A <em>collapsed</em> cell will show as a large elipses, and can be expanded by clicking on the elipses.  See the tracing exercises below.  To collapse a cell, use the View menu option.\n",
    "\n",
    "##### Markdown\n",
    "You will see that this cell is Markdown, and it contains special markup 'tags' surrounding parts of the text to change the way it is displayed when executed.  To look at those tags, double click on any of the text here.  For example you will see how we have marked up the headings and the bulleted lists, and emphasised some words (with italics and bolding).  To render the cell as we intended, simply execute the cell again.\n",
    "\n",
    "Markdown cells will be used to introduce exercises, supply any useful information/resources and to group related exercises into sections.\n",
    "\n",
    "##### Code\n",
    "Most of your interaction with exercise files like this one will be in Code cells.  Generally there will be some Python comments giving a brief introduction to the exercise, potentially followed by some code, then a description of the task you are to complete.  After writing your solution, execute the cell to evaluate your Python code.  Any result of evaluating your code will be displayed in a new cell below the code.  Anything printed will just appear at the bottom of the current cell.\n",
    "\n",
    "If your code produces an error, read the error message to understand which part of your code is causing the error, and what type of error it is.  This will hopefully be a useful hint for debugging!\n",
    "\n",
    "### Resources:\n",
    "* <a href = \"https://jupyter.org/\">Jupyter Home Page</a> (including links to installation files)\n",
    "* <a href =\"https://jupyterlab.readthedocs.io/en/stable/user/interface.html\">JupyterLab Interface doco</a>\n",
    "* <a href=\"https://www.markdownguide.org/getting-started/\">Markdown - Getting Started</a>\n",
    "* <a href =\"https://www.markdownguide.org/basic-syntax/\">Markdown - Basic Syntax Guide</a>\n",
    "* <a href =\"https://www.ibm.com/docs/en/watson-studio-local/1.2.3?topic=notebooks-markdown-jupyter-cheatsheet\">Markdown for Jupyter Notebooks Cheatsheet</a> (IBM)\n",
    "* <a href=\"https://docs.python.org/3/\">Python3 Documentation</a>\n",
    "\n",
    "<hr>"
   ]
  },
  {
   "attachments": {},
   "cell_type": "markdown",
   "id": "c52029b8-50a1-486c-a651-e64a203149d8",
   "metadata": {},
   "source": [
    "<a name=\"Algebraic_Expressions\"><a>\n",
    "# Algebraic Expressions\n",
    "\n",
    "We will assign the value 3 to the variable x for use in the following examples\n",
    "(but the expressions will be written the same regardless of the value of variable x)"
   ]
  },
  {
   "cell_type": "code",
   "execution_count": 1,
   "id": "b8ea45a0-97fc-4bcc-960b-634c0d43c36c",
   "metadata": {},
   "outputs": [],
   "source": [
    "# store the value 3 in variable x\n",
    "x = 3"
   ]
  },
  {
   "cell_type": "markdown",
   "id": "eee6aaf5-1ca6-4710-826c-34c7be7dd81a",
   "metadata": {},
   "source": [
    "Write Python expressions for each of the following algebraic expressions:"
   ]
  },
  {
   "cell_type": "markdown",
   "id": "a0cf0983",
   "metadata": {},
   "source": [
    "<a name=\"5x^3\"></a>\n",
    "$5x^3$"
   ]
  },
  {
   "cell_type": "code",
   "execution_count": 2,
   "id": "a2cb1bc2-c0f2-451a-859d-853aa7c238cc",
   "metadata": {},
   "outputs": [],
   "source": [
    "# Write your answer here.\n",
    "# The result should be 135\n"
   ]
  },
  {
   "cell_type": "markdown",
   "id": "a48dd878",
   "metadata": {},
   "source": [
    "<a name=\"4x^2+7x^3-9x+5\"></a>\n",
    "$4x^2 + 7x^3 - 9x + 5$"
   ]
  },
  {
   "cell_type": "code",
   "execution_count": 3,
   "id": "f8caba6f-8a13-4305-a1ca-1cee4b4e1600",
   "metadata": {},
   "outputs": [],
   "source": [
    "# Write your answer here.\n",
    "# The result should be 203\n"
   ]
  },
  {
   "cell_type": "markdown",
   "id": "b7ce0e20",
   "metadata": {},
   "source": [
    "<a name=\"sqrt(4x^3)\"></a>\n",
    "$\\sqrt{4x^3}$"
   ]
  },
  {
   "cell_type": "code",
   "execution_count": 4,
   "id": "ffb3ad12",
   "metadata": {},
   "outputs": [],
   "source": [
    "# Write your answer answer here.\n",
    "# The result should be 10.392304845413264\n"
   ]
  },
  {
   "cell_type": "markdown",
   "id": "a2a98197",
   "metadata": {},
   "source": [
    "<a name=\"7sqrt(x^(x+1))\"></a>\n",
    "$7 \\sqrt{x^{x+1}}$"
   ]
  },
  {
   "cell_type": "code",
   "execution_count": 5,
   "id": "beb3765a",
   "metadata": {},
   "outputs": [],
   "source": [
    "# Write your answer here.\n",
    "# The result should be 63.0\n"
   ]
  },
  {
   "cell_type": "markdown",
   "id": "7c297bf8-b12d-4fe0-9ab3-2f85880d9aa8",
   "metadata": {},
   "source": [
    "<hr>"
   ]
  },
  {
   "cell_type": "markdown",
   "id": "24e6544c",
   "metadata": {},
   "source": [
    "<a name=\"Geometry\"><a>\n",
    "# Geometry\n",
    "\n",
    "Formulas:\n",
    "    <ul>\n",
    "        <li>area of triangle = $\\frac{hb}{2}$</li>\n",
    "        <li>volume of a cylinder = $\\pi r^2h$</li>\n",
    "        <li>hypotenuse = $\\sqrt{a^2 + b^2}$</li>\n",
    "        <li>area of trapezoid = $\\frac{(a + b)}{2} h$</li>\n",
    "        <li>surface area of right circular cone = $\\pi r^2 + \\pi r\\sqrt{r^2 + h^2}$</li>\n",
    "        <li>area of a regular polygon = $n r^2 tan(\\frac{\\pi}{n})$</li>\n",
    "    </ul>"
   ]
  },
  {
   "cell_type": "markdown",
   "id": "adddc2ff",
   "metadata": {},
   "source": [
    "<a name=\"area_triangle\"></a>\n",
    "<b>Calculate the area of a triangle</b>"
   ]
  },
  {
   "cell_type": "code",
   "execution_count": 6,
   "id": "dafaba46",
   "metadata": {},
   "outputs": [],
   "source": [
    "height = 3.5\n",
    "base = 7.1\n",
    "\n",
    "# Write your answer here.\n",
    "# The result should be 12.424999999999999\n"
   ]
  },
  {
   "cell_type": "markdown",
   "id": "098971b6",
   "metadata": {},
   "source": [
    "<a name=\"volume_cylinder\"></a>\n",
    "<b>Calculate the volume of a cylinder</b>"
   ]
  },
  {
   "cell_type": "code",
   "execution_count": 7,
   "id": "db1e9d11",
   "metadata": {},
   "outputs": [],
   "source": [
    "radius = 2\n",
    "height = 3.4\n",
    "\n",
    "# Write your answer here.\n",
    "# The result should be 42.725660088821186\n"
   ]
  },
  {
   "cell_type": "markdown",
   "id": "308a435f",
   "metadata": {},
   "source": [
    "<a name=\"length_hypotenuse\"></a>\n",
    "<b>Calculate the length of the hypotenuse of a triangle</b>"
   ]
  },
  {
   "cell_type": "code",
   "execution_count": 8,
   "id": "914ebc0c",
   "metadata": {},
   "outputs": [],
   "source": [
    "side_a = 18.3\n",
    "side_b = 9.42\n",
    "\n",
    "# Write your answer here.\n",
    "# The result should be 20.582186472773003\n"
   ]
  },
  {
   "cell_type": "markdown",
   "id": "37b7c02a",
   "metadata": {},
   "source": [
    "<a name=\"area_trapezoid\"></a>\n",
    "<b>Calculate the area of a trapezoid</b> "
   ]
  },
  {
   "cell_type": "code",
   "execution_count": 9,
   "id": "81d9974f",
   "metadata": {},
   "outputs": [],
   "source": [
    "base_a = 3.112\n",
    "base_b = 5.0001\n",
    "height = 9.2\n",
    "\n",
    "# Write your answer here.\n",
    "# The result should be 37.315659999999994\n"
   ]
  },
  {
   "cell_type": "markdown",
   "id": "c7786519",
   "metadata": {},
   "source": [
    "<a name=\"surface_area_cone\"></a>\n",
    "<b>Calculate the surface area of cone</b>"
   ]
  },
  {
   "cell_type": "code",
   "execution_count": 10,
   "id": "009b2dc5",
   "metadata": {},
   "outputs": [],
   "source": [
    "radius = 3\n",
    "height = 8\n",
    "\n",
    "# Write your answer here.\n",
    "# The result should be 108.79967207790783\n"
   ]
  },
  {
   "cell_type": "markdown",
   "id": "6c8e474b",
   "metadata": {},
   "source": [
    "<a name=\"area_regular_polygon\"></a>\n",
    "<b>Calculate the area of a regular polygon</b>"
   ]
  },
  {
   "cell_type": "code",
   "execution_count": 11,
   "id": "2eacffa9",
   "metadata": {},
   "outputs": [],
   "source": [
    "number_sides = 5\n",
    "radius = 7.4\n",
    "\n",
    "# Write your answer here.\n",
    "# The result should be 198.92734416786783\n"
   ]
  },
  {
   "cell_type": "markdown",
   "id": "6bd379f2-870c-4d1c-9124-f0936de97613",
   "metadata": {},
   "source": [
    "<a name=\"variables_and_assignment\"></a>\n",
    "<hr/>\n",
    "\n",
    "# Multi-line Problems\n",
    "\n",
    "The previous exercises you solved only required a single statement. Here we look at more difficult problems that are best solved with multiple statements that are sequentially executed. For these problems, it is important to store values in variables as you go through an assignment statement."
   ]
  },
  {
   "cell_type": "markdown",
   "id": "2492cc6d-5009-4b61-ba4c-41da84c19a0e",
   "metadata": {
    "tags": []
   },
   "source": [
    "<a name=\"average_speed\">\n",
    "<b>Average Speed</b></a>\n",
    "\n",
    "Imagine that you get on your bicycle and travel from your home to QUT at 30 km/hr.  After a hard day's study you cycle home again more slowly at 20 km/hr.\n",
    "\n",
    "Quickly now, what is your average speed for the whole round trip?  Be careful - most people get this wrong!  (Thanks to Professor Julius Sumner Miller for this brainteaser.)\n",
    "\n",
    "To check the correct answer, complete the code below. We have chosen an arbitrary distance of 6 km between your house and the university but the result is the same regardless of the distance.\n",
    "\n",
    "(Author: Colin Fidge 2021)"
   ]
  },
  {
   "cell_type": "code",
   "execution_count": 12,
   "id": "6c832873-7b2a-4d9b-bee3-cf29b97f3ad4",
   "metadata": {},
   "outputs": [],
   "source": [
    "# Given values:\n",
    "distance_from_home_to_uni = 6 # km\n",
    "speed_from_home_to_uni = 30 # km/hr\n",
    "speed_from_uni_to_home = 20 # km/hr\n",
    "\n",
    "# Complete the following code by replacing the question marks:\n",
    "\n",
    "time_to_get_to_uni = distance_from_home_to_uni / speed_from_home_to_uni # hours\n",
    "\n",
    "time_to_get_home = None # hours\n",
    "\n",
    "total_travelling_time = None # hours\n",
    "\n",
    "total_distance_travelled = None # km\n",
    "\n",
    "speed_for_round_trip = None # km/hr\n",
    "\n",
    "speed_for_round_trip"
   ]
  },
  {
   "cell_type": "markdown",
   "id": "4e1b00dd-0672-4dcf-8365-85e16f9ac3ba",
   "metadata": {},
   "source": [
    "<a name=\"earth_vs_moon\"></a>\n",
    "<b>Earth vs Moon</b>\n",
    "\n",
    "Which has more dry land: Earth or the moon?\n",
    "\n",
    "Earth has a surface area of $5.1 \\times 10^8$ km$^2$ and 71% of the earth is covered in water.\n",
    "\n",
    "The moon has a diameter of 3475 km and no water on its surface.\n",
    "\n",
    "(Author: Colin Fidge (2021) - Quiz question from Time magazine)"
   ]
  },
  {
   "cell_type": "code",
   "execution_count": 13,
   "id": "cb441b24-d2db-4733-99f2-1eed7c3fd3f4",
   "metadata": {},
   "outputs": [
    {
     "ename": "SyntaxError",
     "evalue": "invalid syntax (3523837375.py, line 7)",
     "output_type": "error",
     "traceback": [
      "\u001b[0;36m  Cell \u001b[0;32mIn[13], line 7\u001b[0;36m\u001b[0m\n\u001b[0;31m    earths_surface_area = ??? # sq km\u001b[0m\n\u001b[0m                          ^\u001b[0m\n\u001b[0;31mSyntaxError\u001b[0m\u001b[0;31m:\u001b[0m invalid syntax\n"
     ]
    }
   ],
   "source": [
    "# Complete the following code by replacing the question marks:\n",
    "\n",
    "import math\n",
    "\n",
    "# First calculate the amount of dry land on Earth\n",
    "\n",
    "earths_surface_area = ??? # sq km\n",
    "\n",
    "earths_water_area = ???\n",
    "\n",
    "earths_dry_land = ???\n",
    "\n",
    "# Now calculate the amount of dry land on the moon\n",
    "\n",
    "moons_radius = ??? # km\n",
    "\n",
    "moons_dry_land = ??? \n",
    "\n",
    "# Which has more dry land, the earth or the moon?\n",
    "\n",
    "print(moons_dry_land, earths_dry_land)"
   ]
  },
  {
   "cell_type": "markdown",
   "id": "24406c84-ab02-4be0-9952-214e87369979",
   "metadata": {
    "tags": []
   },
   "source": [
    "<a name=\"microcentury\"></a>\n",
    "<b>Microcentury</b>\n",
    "\n",
    "When asked how long his lectures were, Professor Julius Sumner Miller usually answered \"about a microcentury.\"  As an arithmetic exercise we can find out how many minutes in a microcentury by multiplying the minutes in an hour x hours in a day x days in a year x years in a century then dividing by 1 million (\"micro\" means one millionth)."
   ]
  },
  {
   "cell_type": "code",
   "execution_count": null,
   "id": "70356372-b3df-47d6-8d46-7aab14804139",
   "metadata": {},
   "outputs": [],
   "source": [
    "# Some of the values are familiar to us without much thought:\n",
    "minutes_per_hour = 60\n",
    "hours_per_day = 24\n",
    "days_per_year = 365 # ish\n",
    "years_per_century = 100\n",
    "\n",
    "# But others require a bit of calculation.\n",
    "# For each of the remaining variables, change the question marks \n",
    "# to an appropriate expression that uses the variables\n",
    "# above, and no numeric literals\n",
    "\n",
    "minutes_per_day = ???\n",
    "minutes_per_century = ???\n",
    "microcentury = ???\n",
    "\n",
    "microcentury"
   ]
  },
  {
   "cell_type": "markdown",
   "id": "52608b73-5b73-42a7-b5e1-6abfd88b32c4",
   "metadata": {},
   "source": [
    "<hr>"
   ]
  },
  {
   "cell_type": "markdown",
   "id": "5fb8d372-ddd9-4e74-90c6-3e3f6d90f8f7",
   "metadata": {},
   "source": [
    "# User Defined Functions\n",
    "\n",
    "<a name=\"user_defined_functions\"> </a>\n",
    "\n",
    "User defined function allow us to store a block of code that can be called (just like Python's in-built functions). "
   ]
  },
  {
   "cell_type": "markdown",
   "id": "aeb09dbf-7cfb-4dfb-852d-cec33dbb27f2",
   "metadata": {},
   "source": [
    "\n",
    "<a name=\"hot_air_balloon\"> </a>\n",
    "## Hot Air Balloon\n",
    "    \n",
    "    \n",
    "Buoyancy force of a hot air balloon can be calculated the equation below.\n",
    "\n",
    "Use the Buoyancy force equation: $F = \\rho Vg$ where:\n",
    "* F is the Buoyancy force\n",
    "* ρ is the density difference\n",
    "* V is the displaced volume $\\left( \\frac{4}{3} \\pi r^3 \\right)$ and \n",
    "* g is the local gravitational constant (normally assumed to be equal to 9.81).\n",
    " "
   ]
  },
  {
   "cell_type": "code",
   "execution_count": null,
   "id": "d5fa17ab-fb81-4fa6-a2b9-6ae2a565c22f",
   "metadata": {},
   "outputs": [],
   "source": [
    "# Create a Python function to calculate the buoyancy force, given the balloon radius, outside air density, and inside air density are supplied as inputs.\n",
    "def hot_air_balloon_buoyancy(radius, outside_density, inside_density):\n",
    "    # replace pass with your own code\n",
    "    pass"
   ]
  },
  {
   "cell_type": "code",
   "execution_count": null,
   "id": "6bbfa5b8-dfae-4886-9b9c-f255e45f7dcf",
   "metadata": {},
   "outputs": [],
   "source": [
    "# Test 1 - outside air density is 1.2 kg.m^-3; inside helium is 0.2 kg.m^-3\n",
    "hot_air_balloon_buoyancy(10, 1.2, 0.2) \n",
    "# should return 41092.03190895449"
   ]
  },
  {
   "cell_type": "code",
   "execution_count": null,
   "id": "a996c380-faf2-4021-992f-273af7612485",
   "metadata": {},
   "outputs": [],
   "source": [
    "# Test 2 - outside air density is 1.2 kg.m^-3; inside hydrogen is 0.0899 kg.m^-3\n",
    "hot_air_balloon_buoyancy(10, 1.2, 0.0899)\n",
    "# should return 45616.264622130366"
   ]
  },
  {
   "cell_type": "markdown",
   "id": "1f00e388-9375-4ef8-8bdd-b2602d72c06f",
   "metadata": {},
   "source": [
    "<a name=\"road_curvature_design\"> </a>\n",
    "## Road Curvature Design\n",
    "\n",
    "Roads are not perfectly straight and do have curves in the horizontal plane. For safe driving, the horizontal curvature of the road should have minimum radius (termed as minimum radius of curvature) which can be expressed with the equation below."
   ]
  },
  {
   "cell_type": "markdown",
   "id": "2394e4c6-6bd6-4c69-94ac-d55d7c291d37",
   "metadata": {},
   "source": [
    "minimum radius of curvature: $R = \\frac{S^2}{127(f + e)}$\n",
    "where:\n",
    "* R = minimum radius of curvature in meters\n",
    "* S = speed in km/hr\n",
    "* f = coefficient of side friction on the road \n",
    "* e = superelevation expressed as a decimal\n"
   ]
  },
  {
   "cell_type": "code",
   "execution_count": null,
   "id": "2596eac5-bcdc-4ab4-82fe-f8a8c4449d76",
   "metadata": {},
   "outputs": [],
   "source": [
    "# Write a Python function to estimate R, given S, f and e.\n",
    "\n",
    "def radius_of_curvature(speed, friction, superelevation):\n",
    "    pass"
   ]
  },
  {
   "cell_type": "code",
   "execution_count": null,
   "id": "9c9fb71d-ccc8-4cb1-81b3-6b419e4e9d78",
   "metadata": {},
   "outputs": [],
   "source": [
    "# Test case\n",
    "radius_of_curvature(80, 0.14, 0.08) \n",
    "# should return 229.06227630637076"
   ]
  },
  {
   "cell_type": "markdown",
   "id": "a8dd6756-00c7-4d7e-806d-229452f5fdc0",
   "metadata": {},
   "source": [
    "<a name=\"equivalent_resistance\"> </a>\n",
    "## Equivalent Resistance\n",
    "\n",
    "Equivalent resistance is a common concept that is used to analyse circuits.\n",
    "\n",
    "When two resistors are connected in series, the equivalent resistance can be calculated with the formula:\n",
    "$$ R_{eq} = R_1 + R_2 $$\n",
    "\n",
    "When two resistors are connected in parallel, the equivalent resistance can be calculated with the formula:\n",
    "$$ R_{eq} = \\cfrac{R_1 R_2}{R_1 + R_2} $$"
   ]
  },
  {
   "cell_type": "code",
   "execution_count": null,
   "id": "edd543b4-6aae-4d53-8b67-6fb3b5db3510",
   "metadata": {},
   "outputs": [],
   "source": [
    "# Create a Python function that calculates the equivalent resistance of two resistors in series.\n",
    "def series_resistance(R1, R2):\n",
    "    pass"
   ]
  },
  {
   "cell_type": "code",
   "execution_count": null,
   "id": "2075a1dd-b0af-4b7d-b524-6f7a542d1d95",
   "metadata": {},
   "outputs": [],
   "source": [
    "# Create a Python function that calculates the equivalent resistance of two resistors in parallel.\n",
    "def parallel_resistance(R1, R2):\n",
    "    pass"
   ]
  },
  {
   "attachments": {
    "c78423c8-5ad3-46b2-92d2-5f5046fd3ebc.PNG": {
     "image/png": "[encoded data removed]"
    }
   },
   "cell_type": "markdown",
   "id": "36dc2e86-cb30-49da-b245-e36fed24682c",
   "metadata": {},
   "source": [
    "Consider the example circuit pictured below.\n",
    "\n",
    "![Equivalent resistance EGD103.PNG](attachment:c78423c8-5ad3-46b2-92d2-5f5046fd3ebc.PNG)\n",
    "\n",
    "The equivalent resistance of this circuit can be calculated with the following steps:\n",
    "1. Combine the 10 $\\Omega$ and 20 $\\Omega$ resistors on the left in parallel to form an equivalent $R_{eq, 1}$\n",
    "2. Combine the 10 $\\Omega$ and 5 $\\Omega$ resistors on the right in parallel to form an equivalent $R_{eq, 2}$\n",
    "3. Combine the equivalents $R_{eq, 1}$ and $R_{eq, 2}$ in series to get the equivalent resistance of the entire circuit.\n",
    "\n",
    "Call your functions from earlier to perform these three steps and solve the equivalent resistance of the circuit."
   ]
  },
  {
   "cell_type": "code",
   "execution_count": null,
   "id": "d27689d8-41d5-4d93-b164-92a9e4f58de6",
   "metadata": {},
   "outputs": [],
   "source": [
    "# Solve the equivalent resistance of the circuit here by calling the functions you created earlier.\n",
    "# The expected answer is 10 Ohms"
   ]
  }
 ],
 "metadata": {
  "kernelspec": {
   "display_name": "Python 3 (ipykernel)",
   "language": "python",
   "name": "python3"
  },
  "language_info": {
   "codemirror_mode": {
    "name": "ipython",
    "version": 3
   },
   "file_extension": ".py",
   "mimetype": "text/x-python",
   "name": "python",
   "nbconvert_exporter": "python",
   "pygments_lexer": "ipython3",
   "version": "3.12.9"
  }
 },
 "nbformat": 4,
 "nbformat_minor": 5
}
