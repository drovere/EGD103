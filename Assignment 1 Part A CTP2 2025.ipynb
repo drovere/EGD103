{
 "cells": [
  {
   "cell_type": "markdown",
   "id": "261baecb-2250-4b7a-a6e2-08b1b84fd4d2",
   "metadata": {
    "deletable": false,
    "editable": false,
    "slideshow": {
     "slide_type": ""
    },
    "tags": []
   },
   "source": [
    "# EGD103 Assignment 1 Part A: Pendulum Calculations\n",
    "This assignment is split into two parts:\n",
    "* **Part A (4%) is due Friday week 3**. In this part you will be required to answer some simple questions using theory from weeks 1-2 of the unit. This part will allow you to receive early feedback on programming fundamentals.\n",
    "* **Part B (26%) is due Friday week 7**. In this part you will dynamically simulate a pendulum and analyse its motion. This will release on Monday week 4 after you have submitted part A."
   ]
  },
  {
   "cell_type": "markdown",
   "id": "94116829-9313-4a69-987d-f6f402a97e0a",
   "metadata": {
    "deletable": false,
    "editable": false,
    "slideshow": {
     "slide_type": ""
    },
    "tags": []
   },
   "source": [
    "<div style=\"background-color: #ffcccc; padding:10px\">\n",
    "    \n",
    "## General Rules and Restrictions\n",
    "* You must use Jupyter in the cloud (on https://jupyter.eres.qut.edu.au) to develop your solution.\n",
    "* For the assignments you cannot work with friends or colleagues, or get help from anyone other than the EGD103 teaching team - it needs to be entirely your own work.\n",
    "* You cannot use AI tools such as ChatGPT or Copilot to help develop your solution.\n",
    "* Do not modify any function names, parameters or test cases provided in this notebook.\n",
    "* Every function must be implemented in only one place within this .ipynb file (where it is already defined). Do not cut and paste to create duplicate definitions of the same function.\n",
    "* Do not add any import statements. The only modules you are allowed to import are the ones that have been imported for you within this assignment template.\n",
    "* You should only use Python language features that have been taught within this unit. If you use other features we will suspect acadamic misconduct and require you to attend meeting to authenticate your learning.\n",
    "</div>"
   ]
  },
  {
   "cell_type": "markdown",
   "id": "762cf3af-de06-45ef-bc13-467ca3f95e91",
   "metadata": {
    "deletable": false,
    "editable": false,
    "slideshow": {
     "slide_type": ""
    },
    "tags": []
   },
   "source": [
    "## Imports\n",
    "The allowed imports for the assignment are provided below. Do not add any of your own import statements."
   ]
  },
  {
   "cell_type": "code",
   "execution_count": 1,
   "id": "d9cde465-0fb0-415e-9c96-f253a8bca0e3",
   "metadata": {
    "deletable": false,
    "editable": false,
    "slideshow": {
     "slide_type": ""
    },
    "tags": []
   },
   "outputs": [],
   "source": [
    "import math"
   ]
  },
  {
   "cell_type": "markdown",
   "id": "123e8b8f-cfa9-4e78-942a-5238ac38cf55",
   "metadata": {
    "deletable": false,
    "editable": false,
    "slideshow": {
     "slide_type": ""
    },
    "tags": []
   },
   "source": [
    "<div style=\"background-color: #ccccff ; padding:10px; font-size:x-large; font-weight: bold\">\n",
    "    Part A - due Friday week 3\n",
    "</div>"
   ]
  },
  {
   "cell_type": "markdown",
   "id": "a0738857-a16c-4403-b5d8-82e570134518",
   "metadata": {
    "deletable": false,
    "editable": false,
    "slideshow": {
     "slide_type": ""
    },
    "tags": []
   },
   "source": [
    "### A1: Python as a calculator (2 marks)\n",
    "The period (time it takes for one full swing) of a pendulum can be approximated with the equation:\n",
    "\n",
    "$$T_0 = 2 \\pi \\sqrt{\\frac{l}{g}}$$\n",
    "where \n",
    "* $T_0$ is the period (in seconds)\n",
    "* $l$ is the pendulum length (in metres)\n",
    "* $g$ is gravitational acceleration (in m/s^2)"
   ]
  },
  {
   "cell_type": "markdown",
   "id": "699ec7ab-0a0a-4893-987b-3f016648ba0d",
   "metadata": {
    "deletable": false,
    "editable": false,
    "slideshow": {
     "slide_type": ""
    },
    "tags": []
   },
   "source": [
    "<div style=\"background-color: #b2efb2; padding:10px; font-size:small; font-weight: bold\">\n",
    "Task: In the code cell below, the variables <code>length</code> and <code>g</code> have been assigned values. Write a statement below that uses these variables to calculate the corresponding pendulum period, and then store that in the variable <code>period</code>.\n",
    "</div>"
   ]
  },
  {
   "cell_type": "code",
   "execution_count": 2,
   "id": "f30fcdbc-2a0d-440c-b9a7-fcd34ade0547",
   "metadata": {
    "editable": true,
    "slideshow": {
     "slide_type": ""
    },
    "tags": []
   },
   "outputs": [],
   "source": [
    "length = 0.5\n",
    "g = 9.8\n",
    "period = None # replace None with the correct expression"
   ]
  },
  {
   "cell_type": "code",
   "execution_count": 3,
   "id": "6fb07d38-01af-4dbf-a105-e687dd49b6d3",
   "metadata": {
    "deletable": false,
    "editable": false,
    "slideshow": {
     "slide_type": ""
    },
    "tags": []
   },
   "outputs": [],
   "source": [
    "# test case - should display the number 1.4192268951137286\n",
    "period"
   ]
  },
  {
   "cell_type": "markdown",
   "id": "484e146a-f0d0-4b42-9974-6b368b44eb5b",
   "metadata": {
    "deletable": false,
    "editable": false,
    "slideshow": {
     "slide_type": ""
    },
    "tags": []
   },
   "source": [
    "If we rearrange the previous equation, we can find out what length a pendulum should have in order to have a desired period:\n",
    "\n",
    "$$l = \\frac{g}{\\pi^2}\\frac{T_0^2}{4}$$\n"
   ]
  },
  {
   "cell_type": "markdown",
   "id": "5d11705c-b265-4466-9ff7-98bb8089702c",
   "metadata": {
    "deletable": false,
    "editable": false,
    "slideshow": {
     "slide_type": ""
    },
    "tags": []
   },
   "source": [
    "<div style=\"background-color: #b2efb2; padding:10px; font-size:small; font-weight: bold\">\n",
    "Consider that you would like to create a pendulum that has a period of 5 seconds while on the moon ($g=1.6$). Provide code in the cell below that evaluates the required pendulum length and stores it in the variable <code>pendulum_length</code>.\n",
    "</div>"
   ]
  },
  {
   "cell_type": "code",
   "execution_count": 4,
   "id": "fa390d2f-79d2-415b-aa5e-defec9795e35",
   "metadata": {
    "editable": true,
    "slideshow": {
     "slide_type": ""
    },
    "tags": []
   },
   "outputs": [],
   "source": [
    "g_moon = 1.6\n",
    "desired_period = 5\n",
    "pendulum_length = None # replace None with the correct expression "
   ]
  },
  {
   "cell_type": "code",
   "execution_count": 5,
   "id": "dd7a2eb9-75a6-44b6-ae1a-55d050b900c3",
   "metadata": {
    "deletable": false,
    "editable": false,
    "slideshow": {
     "slide_type": ""
    },
    "tags": []
   },
   "outputs": [],
   "source": [
    "# test case - should display the number 1.0132118364233778\n",
    "pendulum_length"
   ]
  },
  {
   "cell_type": "markdown",
   "id": "ec761029-40f3-4d83-bf19-4c811871911a",
   "metadata": {
    "deletable": false,
    "editable": false,
    "slideshow": {
     "slide_type": ""
    },
    "tags": []
   },
   "source": [
    "### A2: Creating a user-defined function (2 marks)\n",
    "A simple pendulum has motion described by the function:\n",
    "$$\\theta(t) = \\theta_0 \\cos\\left( \\sqrt{\\frac{g}{l} } t\\right)$$\n",
    "where \n",
    "* $l$ is the pendulum length (in metres)\n",
    "* $g$ is gravitational acceleration (in m/s^2)\n",
    "* $\\theta_0$ is the initial pendulum angle (in radians)\n",
    "* $\\theta$ is the pendulum angle (in radians)\n",
    "* $t$ is time (in seconds)"
   ]
  },
  {
   "cell_type": "markdown",
   "id": "6779d343-0b45-4902-958c-294531421bef",
   "metadata": {
    "deletable": false,
    "editable": false,
    "slideshow": {
     "slide_type": ""
    },
    "tags": []
   },
   "source": [
    "<div style=\"background-color: #b2efb2; padding:10px; font-size:small; font-weight: bold\">\n",
    "Task: In the code cell below, create a user-defined function named <code>compute_pendulum_angle</code>. It should accept the pendulum length, gravitational acceleration, the release angle, and time as inputs. It should return the corresponding pendulum angle.\n",
    "</div>"
   ]
  },
  {
   "cell_type": "code",
   "execution_count": 6,
   "id": "be1d8a2b-7634-4dec-8fe7-8a4c42593a15",
   "metadata": {
    "editable": true,
    "slideshow": {
     "slide_type": ""
    },
    "tags": []
   },
   "outputs": [],
   "source": [
    "def compute_pendulum_angle(length, g, release_angle, time):\n",
    "    # replace the pass statement below with your solution\n",
    "    pass"
   ]
  },
  {
   "cell_type": "code",
   "execution_count": 7,
   "id": "48b8237b-fc1d-4b8b-a787-5c595ab66a2d",
   "metadata": {
    "deletable": false,
    "editable": false,
    "slideshow": {
     "slide_type": ""
    },
    "tags": []
   },
   "outputs": [],
   "source": [
    "# test case 1 - should return -17.455953659550236\n",
    "compute_pendulum_angle(3, 10, 20, 2)"
   ]
  },
  {
   "cell_type": "code",
   "execution_count": 8,
   "id": "d3eb62d4-9ddc-41cc-92b8-9ee906849d60",
   "metadata": {
    "deletable": false,
    "editable": false,
    "slideshow": {
     "slide_type": ""
    },
    "tags": []
   },
   "outputs": [],
   "source": [
    "# test case 2 - should return 24.55897371765494\n",
    "compute_pendulum_angle(5, 2, -30, 4)"
   ]
  }
 ],
 "metadata": {
  "kernelspec": {
   "display_name": "Python 3 (ipykernel)",
   "language": "python",
   "name": "python3"
  },
  "language_info": {
   "codemirror_mode": {
    "name": "ipython",
    "version": 3
   },
   "file_extension": ".py",
   "mimetype": "text/x-python",
   "name": "python",
   "nbconvert_exporter": "python",
   "pygments_lexer": "ipython3",
   "version": "3.12.11"
  }
 },
 "nbformat": 4,
 "nbformat_minor": 5
}
