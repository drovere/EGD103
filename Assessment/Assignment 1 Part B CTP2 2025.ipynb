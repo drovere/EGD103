{
 "cells": [
  {
   "cell_type": "markdown",
   "id": "31d44fee-e517-47b4-9952-59caba311b14",
   "metadata": {
    "editable": true,
    "slideshow": {
     "slide_type": ""
    },
    "tags": []
   },
   "source": [
    "# EGD103 Assignment 1 Part B: Dynamic Simulation of a Pendulum\n",
    "This assignment is split into two parts:\n",
    "* **Part A (4%) is due Friday week 3**. In this part you will be required to answer some simple questions using theory from weeks 1-2 of the unit. This part will allow you to receive early feedback on programming fundamentals.\n",
    "* **Part B (26%) is due Friday week 7**. In this part you will dynamically simulate a pendulum and analyse its motion. This will release on Monday week 4 after you have submitted part A."
   ]
  },
  {
   "cell_type": "markdown",
   "id": "3136593d-0161-45b4-87ac-3f4c6e5a00bc",
   "metadata": {
    "editable": false,
    "slideshow": {
     "slide_type": ""
    },
    "tags": []
   },
   "source": [
    "<div style=\"background-color: #ffcccc; padding:10px\">\n",
    "    \n",
    "## General Rules and Restrictions\n",
    "* You must use Jupyter in the cloud (on https://jupyter.eres.qut.edu.au) to develop your solution.\n",
    "* For the assignments you cannot work with friends or colleagues, or get help from anyone other than the EGD103 teaching team - it needs to be entirely your own work.\n",
    "* You cannot use AI tools such as ChatGPT or Copilot to help develop your solution.\n",
    "* Do not modify any function names, parameters or test cases provided in this notebook.\n",
    "* Every function must be implemented in only one place within this .ipynb file (where it is already defined). Do not cut and paste to create duplicate definitions of the same function.\n",
    "* Do not add any import statements. The only modules you are allowed to import are the ones that have been imported for you within this assignment template.\n",
    "* You should only use Python language features that have been taught within this unit. If you use other features we will suspect acadamic misconduct and require you to attend meeting to authenticate your learning.\n",
    "</div>"
   ]
  },
  {
   "cell_type": "markdown",
   "id": "54072e5c-3a92-4065-b71f-50dd4a6c76d0",
   "metadata": {
    "editable": false,
    "slideshow": {
     "slide_type": ""
    },
    "tags": []
   },
   "source": [
    "## Imports\n",
    "The allowed imports for the assignment are provided below. Do not add any of your own import statements."
   ]
  },
  {
   "cell_type": "code",
   "execution_count": null,
   "id": "99a56231-f65d-4af6-9a7a-afbfbd981f87",
   "metadata": {},
   "outputs": [],
   "source": [
    "import math\n",
    "import pendulum_visuals"
   ]
  },
  {
   "cell_type": "markdown",
   "id": "013a4a82-6c71-484a-955b-5c2aa4d05d73",
   "metadata": {},
   "source": [
    "## Introduce Yourself\n",
    "<div style=\"background-color: #b2efb2; padding:10px; font-size:small; font-weight: bold\">\n",
    "In the Markdown cell, introduce your self by providing your name, student number and a small description of your prior programming experience (if any). Use some simple Markdown formatting features to make your introduction look presentable.\n",
    "</div>"
   ]
  },
  {
   "cell_type": "markdown",
   "id": "e7105391-1544-4196-b3d5-6528dd8018e8",
   "metadata": {},
   "source": [
    "Introduce yourself here."
   ]
  },
  {
   "cell_type": "markdown",
   "id": "f9e0f3d5-847e-40d4-b3dc-bfe23c1fe37b",
   "metadata": {
    "editable": true,
    "slideshow": {
     "slide_type": ""
    },
    "tags": []
   },
   "source": [
    "<div style=\"background-color: #ccccff ; padding:10px; font-size:x-large; font-weight: bold\">\n",
    "    Part B - due Friday week 7\n",
    "</div>"
   ]
  },
  {
   "cell_type": "markdown",
   "id": "9a77a23c-a279-4b9e-a481-8d4749285102",
   "metadata": {
    "editable": true,
    "slideshow": {
     "slide_type": ""
    },
    "tags": []
   },
   "source": [
    "In Part A of the assignment you looked at some formulas for the natural response of a pendulum. While these formulas are simple, they provide an unrealistic model of an actual pendulum due to a number of factors:\n",
    "* The simple model assumes no damping, meaning it would oscillate at the same amplitude forever.\n",
    "* The simple model uses a small angle approximation, meaning it is inaccurate for medium to large angles of swing.\n",
    "* The simple model only allows for an initial velocity of zero (released from rest).\n",
    "\n",
    "In Part B, you will be developing a more comprehensive pendulum simulation that can account for all of these factors. It will utilise numerical methods to discretise the problem into small time steps and approximate where the pendulum will move based on its current state.\n",
    "\n",
    "The marks attached to each question in this template are their weighting for criteria 1 (program correctness). The other criteria of programming principles and code quality apply holistically to your submission."
   ]
  },
  {
   "cell_type": "markdown",
   "id": "ce63d922-81d3-4c97-88b7-c1fd2bb3c05b",
   "metadata": {},
   "source": [
    "### Model Parameters\n",
    "For this assignment we will define physical parameters of the pendulum as global variables. This is done in the code cell below - do not modify this code."
   ]
  },
  {
   "cell_type": "code",
   "execution_count": null,
   "id": "c79ab8fd-f1e8-4689-bb3b-a765391e6c9d",
   "metadata": {
    "editable": true,
    "slideshow": {
     "slide_type": ""
    },
    "tags": []
   },
   "outputs": [],
   "source": [
    "# physical parameters for pendulum - do not modify!\n",
    "g = 9.8\n",
    "length = 2.5\n",
    "mass = 20\n",
    "damping_coefficient = 10"
   ]
  },
  {
   "cell_type": "markdown",
   "id": "f6026780-add2-4180-b5b2-12a1f1ae223b",
   "metadata": {
    "editable": true,
    "slideshow": {
     "slide_type": ""
    },
    "tags": []
   },
   "source": [
    "### B1: Computing angle (1 mark)\n",
    "Angle ($\\theta$) can be numerically computed from angular velocity ($\\omega$) through the relationship:\n",
    "$$\\theta_{n+1} = \\theta_n + \\omega_{n+1} \\Delta t$$\n",
    "where:\n",
    "* $\\theta_{n+1}$ represents the next angle of the pendulum after one time step.\n",
    "* $\\theta_n$ represents the current angle of the pendulum\n",
    "* $\\omega_{n+1}$ represents the next angular velocity of the pendulum after one time step\n",
    "* $\\Delta t$ is the time step\n",
    "\n",
    "<div style=\"background-color: #b2efb2; padding:10px; font-size:small; font-weight: bold\">\n",
    "Task: In the code cell below, create a user-defined function named <code>compute_next_angle</code>. It should accept the current angle and next angular velocity and time step as inputs. The function should apply the formula described above to calculate and return the next angle of the pendulum.\n",
    "</div>"
   ]
  },
  {
   "cell_type": "code",
   "execution_count": null,
   "id": "b98db8ed-9b43-4ee2-bdd7-dfd1d258b15c",
   "metadata": {
    "editable": true,
    "slideshow": {
     "slide_type": ""
    },
    "tags": []
   },
   "outputs": [],
   "source": [
    "def compute_next_angle(angle, next_angular_vel, time_step):\n",
    "    # replace pass with your own solution\n",
    "    pass"
   ]
  },
  {
   "cell_type": "code",
   "execution_count": null,
   "id": "968f213d-bbe5-4dc1-b873-ed14ae6168ca",
   "metadata": {
    "editable": true,
    "slideshow": {
     "slide_type": ""
    },
    "tags": []
   },
   "outputs": [],
   "source": [
    "# test case: should return 0.8353981633974483\n",
    "compute_next_angle(math.pi/4, 0.5, 0.1)"
   ]
  },
  {
   "cell_type": "code",
   "execution_count": null,
   "id": "dac58d00-1595-4b8f-8a6d-2c3e72edddfc",
   "metadata": {},
   "outputs": [],
   "source": [
    "# test case: should return -0.42359877559829884\n",
    "compute_next_angle(-math.pi/6, 0.2, 0.5)"
   ]
  },
  {
   "attachments": {},
   "cell_type": "markdown",
   "id": "22a1eeaa-6b3f-428d-b88f-dd9661e5cc41",
   "metadata": {
    "editable": true,
    "slideshow": {
     "slide_type": ""
    },
    "tags": []
   },
   "source": [
    "### B2: Converting from angle to position (1 mark)\n",
    "Once solving for pendulum angle, we would like to be able to compute the position of the end of the pendulum. \n",
    "\n",
    "<center><img src=https://upload.wikimedia.org/wikipedia/commons/d/df/Coordinates_of_a_simple_gravity_pendulum.png width=\"300\">Source: Wikipedia</center>\n",
    "\n",
    "Assuming the pendulum pivot is at the coordinate (0, 0), the coordinates of the pendulum mass can be found with some simple trigonometry:\n",
    "$$x = l \\sin{(\\theta)}$$\n",
    "$$y = -l \\cos{(\\theta)}$$\n",
    "where $l$ is the pendulum length and $\\theta$ is the pendulum angle.\n",
    "\n",
    "<div style=\"background-color: #b2efb2; padding:10px; font-size:small; font-weight: bold\">\n",
    "Task: In the code cell below, create a user-defined function named <code>angle_to_position</code>. It should accept an angle as its only input. The function should apply the formulas above to compute the pendulum's x and y coordinates, and then return them together in an (x, y) tuple. Make sure to use the globally defined length variable in your solution.\n",
    "</div>"
   ]
  },
  {
   "cell_type": "code",
   "execution_count": null,
   "id": "aeaabdd7-f60d-499b-abbd-58827ebc8854",
   "metadata": {
    "editable": true,
    "slideshow": {
     "slide_type": ""
    },
    "tags": []
   },
   "outputs": [],
   "source": [
    "def angle_to_position(angle):\n",
    "    # replace pass with your own solution\n",
    "    pass"
   ]
  },
  {
   "cell_type": "code",
   "execution_count": null,
   "id": "9a643ee2-1d11-4eab-9114-787b97f72b35",
   "metadata": {},
   "outputs": [],
   "source": [
    "# test case: should return (1.2499999999999998, -2.165063509461097)\n",
    "angle_to_position(math.pi / 6)"
   ]
  },
  {
   "cell_type": "code",
   "execution_count": null,
   "id": "659c51f4-75e6-4a0f-963b-7c79ff82ed24",
   "metadata": {},
   "outputs": [],
   "source": [
    "# test case: should return (-2.1036774620197414, -1.3507557646703494)\n",
    "angle_to_position(-1)"
   ]
  },
  {
   "cell_type": "markdown",
   "id": "d9ee7502-cdb3-4866-9907-fca81cbbdfdb",
   "metadata": {
    "editable": true,
    "slideshow": {
     "slide_type": ""
    },
    "tags": []
   },
   "source": [
    "### B3: Computing angular velocity (1 mark)\n",
    "Angular velocity ($\\omega$) can be numerically computed based on all of the forces acting on the pendulum. \n",
    "\n",
    "For an undamped pendulum, we can compute with the equation:\n",
    "\n",
    "$$\\omega_{n+1} = \\omega_n - \\Delta t \\left(\\frac{g}{l}  \\sin{(\\theta_n)} \\right) $$\n",
    "where:\n",
    "* $\\omega_{n+1}$ represents the next angular velocity of the pendulum after one time step\n",
    "* $\\omega_{n}$ represents the current angular velocity of the pendulum\n",
    "* $\\Delta t$ is the time step\n",
    "* $g$ is the gravitational acceleration constant\n",
    "* $l$ is the pendulum length\n",
    "* $\\theta_n$ represents the current angle of the pendulum\n",
    "\n",
    "\n",
    "For a damped pendulum, we can use the equation from before with a damping term included:\n",
    "$$\\omega_{n+1} = \\omega_n - \\Delta t \\left(\\frac{g}{l} \\sin{(\\theta_n)} + \\frac{D \\omega_n}{ml^2}\\right) $$\n",
    "where:\n",
    "* $D$ is the pendulum damping coefficient\n",
    "* $m$ is the pendulum mass\n",
    "\n",
    "<div style=\"background-color: #b2efb2; padding:10px; font-size:small; font-weight: bold\">\n",
    "Task: In the code cell below, create a user-defined function named <code>compute_next_angular_velocity</code>. It should accept the current angle, current angular velocity, time step, and damped as inputs. The function should apply the formula described above to calculate and return the next angular velocity of the pendulum. If damped is False, undamped formula should be used and if damped is True the damped formula should be use. Make sure to use globaly defined variables when needed (g, pendulum length, etc.).\n",
    "</div>"
   ]
  },
  {
   "cell_type": "code",
   "execution_count": null,
   "id": "f8561f08-419b-454d-ae3d-c7b5d50d8242",
   "metadata": {
    "editable": true,
    "slideshow": {
     "slide_type": ""
    },
    "tags": []
   },
   "outputs": [],
   "source": [
    "def compute_next_angular_velocity(angle, angular_vel, time_step, damped=True):\n",
    "    # replace pass with your own solution\n",
    "    pass"
   ]
  },
  {
   "cell_type": "code",
   "execution_count": null,
   "id": "ddad39df-4c6c-4549-b456-19ed361810ae",
   "metadata": {
    "editable": true,
    "slideshow": {
     "slide_type": ""
    },
    "tags": []
   },
   "outputs": [],
   "source": [
    "# test case: should return -0.3394819582835\n",
    "compute_next_angular_velocity(math.pi/3, 0, 0.1, False)"
   ]
  },
  {
   "cell_type": "code",
   "execution_count": null,
   "id": "4ea34e93-a656-4694-a129-257fde21f103",
   "metadata": {},
   "outputs": [],
   "source": [
    "# test case: should return -0.055756755343327996\n",
    "compute_next_angular_velocity(0.2, 0.1, 0.2, False)"
   ]
  },
  {
   "cell_type": "code",
   "execution_count": null,
   "id": "96a80080-f383-4ada-bafa-b1404ad7e4cb",
   "metadata": {
    "editable": true,
    "slideshow": {
     "slide_type": ""
    },
    "tags": []
   },
   "outputs": [],
   "source": [
    "# test case: should return -1.0267575746753799\n",
    "compute_next_angular_velocity(math.pi/4, -0.2, 0.3)"
   ]
  },
  {
   "cell_type": "code",
   "execution_count": null,
   "id": "748f4af3-0142-4be3-b276-bced345981d7",
   "metadata": {},
   "outputs": [],
   "source": [
    "# test case: should return 1.551527833134\n",
    "compute_next_angular_velocity(-math.pi/3, 0.2, 0.4)"
   ]
  },
  {
   "cell_type": "markdown",
   "id": "fb21b6e5-bd8b-4c19-bfe2-2abfcc53b14e",
   "metadata": {
    "editable": true,
    "slideshow": {
     "slide_type": ""
    },
    "tags": []
   },
   "source": [
    "### B4: Moving pendulum one time step (1 mark)\n",
    "Now we are able to utilise your code from B1-B3 to simulate one time step of motion for a pendulum. To do this, you should follow the steps below:\n",
    "1. Call your function from B3 to compute the new angular velocity.\n",
    "2. Call your function from B1 to compute the new angle.\n",
    "3. Call your function from B2 to compute the new position of the pendulum as a tuple.\n",
    "4. Return the new angle, new angular velocity and new posisition (in that order).\n",
    "\n",
    "<div style=\"background-color: #b2efb2; padding:10px; font-size:small; font-weight: bold\">\n",
    "Task: In the code cell below, create a user-defined function named <code>move_pendulum</code>. It should accept an angle, an angular velocity, time step and damped as its inputs. The function should apply the steps above to compute and return the new angle, new angular velocity and new position in a tuple. For full marks, you must call your functions from B1-B3 in your solution.\n",
    "</div>"
   ]
  },
  {
   "cell_type": "code",
   "execution_count": null,
   "id": "583f3e0c-874c-4836-85b2-ce92b9855f5f",
   "metadata": {
    "editable": true,
    "slideshow": {
     "slide_type": ""
    },
    "tags": []
   },
   "outputs": [],
   "source": [
    "def move_pendulum(angle, angular_vel, time_step, damped=True):\n",
    "    # replace pass with your own solution\n",
    "    pass"
   ]
  },
  {
   "cell_type": "code",
   "execution_count": null,
   "id": "a6765228-9477-447b-9a34-61ba0687519f",
   "metadata": {},
   "outputs": [],
   "source": [
    "# test case: should return (0.5039987755982989, -0.196, (1.2073273798359507, -2.1891460887520635))\n",
    "move_pendulum(math.pi/6, 0, 0.1, False)"
   ]
  },
  {
   "cell_type": "code",
   "execution_count": null,
   "id": "07a6b32e-1861-40e7-b260-a5321d45acf3",
   "metadata": {},
   "outputs": [],
   "source": [
    "# test case: should return (-0.02482607554686095, 2.375869622265695, (-0.06205881358232169, -2.499229622034909))\n",
    "move_pendulum(-0.5, 2, 0.2, False)"
   ]
  },
  {
   "cell_type": "code",
   "execution_count": null,
   "id": "0f0b6872-10ff-41c2-afb1-3a4162ca5a83",
   "metadata": {},
   "outputs": [],
   "source": [
    "# test case: should return (0.28863877559829887, -0.7831999999999999, (0.7116189390914368, -2.3965805818971284))\n",
    "move_pendulum(math.pi/6, -0.2, 0.3)"
   ]
  },
  {
   "cell_type": "code",
   "execution_count": null,
   "id": "b6ae2b2a-aeed-423b-97e8-f847938336de",
   "metadata": {},
   "outputs": [],
   "source": [
    "# test case: should return (0.5750956978125561, 2.6877392445313903, (1.3597877426523417, -2.0978506369454544))\n",
    "move_pendulum(-0.5, 2, 0.4)"
   ]
  },
  {
   "cell_type": "markdown",
   "id": "76e4abe4-7dee-47b6-bcb9-83529356ef90",
   "metadata": {
    "editable": true,
    "slideshow": {
     "slide_type": ""
    },
    "tags": []
   },
   "source": [
    "### B5: Simulating pendulum until end time (2 marks)\n",
    "Now that you can move the pendulum one time step, we would like you to repeat this process many times so that you can simulate a pendulum's motion from $t=0$ to an end time $t=t_{end}$. Your solution should call your function from B4 and utilise a loop to repeatedly call that function.\n",
    "\n",
    "<div style=\"background-color: #b2efb2; padding:10px; font-size:small; font-weight: bold\">\n",
    "Task: In the code cell below, create a user-defined function named <code>simulate_pendulum</code>. It should accept an end time, a time step, damped, an initial angle and an initial angular velocity as inputs. All inputs are default arguments as per the function definition provided below. The function should apply the steps above to compute and return a list of times, a list of angles and a list of positions as a tuple (in that order).\n",
    "</div>"
   ]
  },
  {
   "cell_type": "code",
   "execution_count": null,
   "id": "f9e70e3d-baa9-42d3-a650-d72c09704bb8",
   "metadata": {},
   "outputs": [],
   "source": [
    "def simulate_pendulum(end_time=10, time_step=0.01, damped=True, init_angle=-math.pi/3, init_angular_vel = 0):\n",
    "    # replace pass with your own solution\n",
    "    pass"
   ]
  },
  {
   "cell_type": "code",
   "execution_count": null,
   "id": "f8b18ce1-deb2-4085-b8d0-2730052215ef",
   "metadata": {},
   "outputs": [],
   "source": [
    "# test case 1: default arguments\n",
    "times_1, angles_1, positions_1 = simulate_pendulum()\n",
    "pendulum_visuals.plot_pendulum_angles(times_1, angles_1)"
   ]
  },
  {
   "cell_type": "code",
   "execution_count": null,
   "id": "54ffacb8-fe62-40d7-a658-d05dbf0fa1a6",
   "metadata": {},
   "outputs": [],
   "source": [
    "# test case 2: animation of positions from test case 1\n",
    "pendulum_visuals.animate_pendulum(length, times_1, positions_1)"
   ]
  },
  {
   "cell_type": "code",
   "execution_count": null,
   "id": "ed7d2b32-592c-4b1a-af4a-1008658357a8",
   "metadata": {},
   "outputs": [],
   "source": [
    "# test case 3: user supplied inputs\n",
    "times_2, angles_2, positions_2 = simulate_pendulum(12, 0.05, False, 0.5, -1)\n",
    "pendulum_visuals.plot_pendulum_angles(times_2, angles_2)"
   ]
  },
  {
   "cell_type": "markdown",
   "id": "96d84f83-5bd5-4159-98cb-ca8dd8793a8d",
   "metadata": {},
   "source": [
    "### B6: Finding Pendulum Turning Points (2 marks)\n",
    "Now that we have a working simulation, we would like to analyse its motion. The most useful coordinates to inspect for this analysis are the turning points of the pendulum motion. The points help us to easily determine properties of the pendulum such as its period and settling time.\n",
    "\n",
    "<div style=\"background-color: #b2efb2; padding:10px; font-size:small; font-weight: bold\">\n",
    "Task: In the code cell below, create a user-defined function named <code>find_turning_points</code>. It should accept a list of times and a corresponding list of angles. The function should return a list containing a (time, angle) tuple for each point where the pendulum changes direction. If there are no turning points present (changes of direction), then the function should return an empty list.\n",
    "</div>"
   ]
  },
  {
   "cell_type": "code",
   "execution_count": null,
   "id": "0b3a752a-fe54-4438-a64d-a14ce753cdf2",
   "metadata": {},
   "outputs": [],
   "source": [
    "def find_turning_points(times, pendulum_angles):\n",
    "    # replace pass with your own solution\n",
    "    pass"
   ]
  },
  {
   "cell_type": "code",
   "execution_count": null,
   "id": "f288fac6-cfd7-4244-9ae5-41be650cfddd",
   "metadata": {},
   "outputs": [],
   "source": [
    "# test case 1 - should return ([1, 4, 6, 8], [0.3, 0, 0.4, -0.2])\n",
    "test_times = [0, 1, 2, 3, 4, 5, 6, 7, 8, 9, 10]\n",
    "test_angles = [0.2, 0.3, 0.2, 0.1, 0, 0.2, 0.4, 0.2, -0.2, 0, 0.1]\n",
    "find_turning_points(test_times, test_angles)"
   ]
  },
  {
   "cell_type": "code",
   "execution_count": null,
   "id": "c7507f55-c9ad-4a31-bf1f-6db021cdbabd",
   "metadata": {},
   "outputs": [],
   "source": [
    "# test case 2 - using values from simulation in B5\n",
    "# should visually see all the turning points correctly marked with red dots\n",
    "peak_times, peak_angles = find_turning_points(times_1, angles_1)\n",
    "pendulum_visuals.plot_turning_points(times_1, angles_1, peak_times, peak_angles)"
   ]
  },
  {
   "cell_type": "markdown",
   "id": "ce4c1ec0-f737-46d9-b43e-28a002b1d2db",
   "metadata": {},
   "source": [
    "### B7: Using simulation for problem solving (2 marks)\n",
    "Using your pendulum simulation, we would like to find out the smallest initial angular velocity that would result in the pendulum doing a loop the loop (ie. going past the vertical). The simulation should use default values for all arguments except the initial angular velocity. Your solution should incorporate a loop that can gradually increase the initial angular velocity until a loop the loop is observed - simple trial and error will not be awarded full marks.\n",
    "\n",
    "<div style=\"background-color: #b2efb2; padding:10px; font-size:small; font-weight: bold\">\n",
    "Task: In the code cell below, create a function named <code>find_init_velocity</code> that calculates and returns the smallest initial angular velocity that will cause the pendulum to do a loop the loop as per the instructions above. The function doesn't have any arguments.\n",
    "</div>"
   ]
  },
  {
   "cell_type": "code",
   "execution_count": null,
   "id": "841fb8d6-6138-4795-8be2-a6a16e04ac44",
   "metadata": {},
   "outputs": [],
   "source": [
    "def find_init_velocity():\n",
    "    pass"
   ]
  },
  {
   "cell_type": "code",
   "execution_count": null,
   "id": "a416224e-f3d4-4ab8-8163-61a93319a178",
   "metadata": {},
   "outputs": [],
   "source": [
    "# checking by simulation\n",
    "init_vel = find_init_velocity()\n",
    "times, angles, positions = simulate_pendulum(damped=True, init_angular_vel=init_vel)\n",
    "pendulum_visuals.animate_pendulum(length, times, positions)"
   ]
  },
  {
   "cell_type": "markdown",
   "id": "54cb687b-a953-49ec-986d-eb8dd6bc2ad9",
   "metadata": {},
   "source": [
    "### B8: Model Convergence (2 marks)\n",
    "Numerical simulations like your pendulum model only give approximate solutions to problems. The accuracy of these solutions is heavily dependent on the time step used in the simulation. Typically a smaller time step will lead to a simulation with less error. The downside to using a smaller step size is that it increases computational time of the simulation. For numeric simulations we want to find a step size that is \"just right\" - small enough to give accurate solutions but not so small that the simulation takes forever to run.\n",
    "\n",
    "A typical approach to get this ideal step size is to start with a large step size and run the simulation (should be very fast but inaccurate). Then decrease the step size and re-simulate until convergence is observed. Convergence occurs when decreasing the time step results in very minimal changes to the simulation results, meaning it's not worth the extra computational time to decrease it further.\n",
    "\n",
    "We would like you to find the ideal step size for a pendulum simulation by following the steps below. When simulating the pendulum, you will specify the time step and use default values for all other arguments.\n",
    "1. Simulate a pendulum with with a time step of 1 second using your function from B5. Store the final pendulum angle (ie. angle at 10 seconds) from the simulation.\n",
    "2. Halve the step size and simulate the pendulum again, storing the final pendulum angle from the new simulation.\n",
    "3. Continue to repeat step 2 until you get three consecutive simulations where the final pendulum angles are all within 0.001 radians of each other.\n",
    "4. Return the time step of the final simulation that was run.\n",
    "\n",
    "<div style=\"background-color: #b2efb2; padding:10px; font-size:small; font-weight: bold\">\n",
    "Task: In the code cell below, create a function named <code>find_step_size</code> that solves for the time step where model convergence is observed using the algorithm provided above. The function does not have any inputs.\n",
    "</div>"
   ]
  },
  {
   "cell_type": "code",
   "execution_count": null,
   "id": "6533edf7-82b4-43a2-abb7-6bd4e599f62e",
   "metadata": {},
   "outputs": [],
   "source": [
    "def find_step_size():\n",
    "    pass"
   ]
  },
  {
   "cell_type": "code",
   "execution_count": null,
   "id": "cf147abf-4819-4833-807b-a3619a6973eb",
   "metadata": {},
   "outputs": [],
   "source": [
    "# test case: expected result is 0.00390625\n",
    "find_step_size()"
   ]
  }
 ],
 "metadata": {
  "kernelspec": {
   "display_name": "Python 3 (ipykernel)",
   "language": "python",
   "name": "python3"
  },
  "language_info": {
   "codemirror_mode": {
    "name": "ipython",
    "version": 3
   },
   "file_extension": ".py",
   "mimetype": "text/x-python",
   "name": "python",
   "nbconvert_exporter": "python",
   "pygments_lexer": "ipython3",
   "version": "3.12.11"
  }
 },
 "nbformat": 4,
 "nbformat_minor": 5
}
